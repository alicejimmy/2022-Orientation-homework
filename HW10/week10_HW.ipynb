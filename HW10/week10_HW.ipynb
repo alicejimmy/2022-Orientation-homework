{
  "nbformat": 4,
  "nbformat_minor": 0,
  "metadata": {
    "colab": {
      "provenance": [],
      "collapsed_sections": []
    },
    "kernelspec": {
      "name": "python3",
      "display_name": "Python 3"
    },
    "language_info": {
      "name": "python"
    }
  },
  "cells": [
    {
      "cell_type": "code",
      "source": [
        "!pip install gensim"
      ],
      "metadata": {
        "colab": {
          "base_uri": "https://localhost:8080/"
        },
        "id": "jU6Y2uAoqgGM",
        "outputId": "e4943e8a-64c4-4677-c4c8-8d99dc9af926"
      },
      "execution_count": 1,
      "outputs": [
        {
          "output_type": "stream",
          "name": "stdout",
          "text": [
            "Looking in indexes: https://pypi.org/simple, https://us-python.pkg.dev/colab-wheels/public/simple/\n",
            "Requirement already satisfied: gensim in /usr/local/lib/python3.7/dist-packages (3.6.0)\n",
            "Requirement already satisfied: smart-open>=1.2.1 in /usr/local/lib/python3.7/dist-packages (from gensim) (5.2.1)\n",
            "Requirement already satisfied: numpy>=1.11.3 in /usr/local/lib/python3.7/dist-packages (from gensim) (1.21.6)\n",
            "Requirement already satisfied: six>=1.5.0 in /usr/local/lib/python3.7/dist-packages (from gensim) (1.15.0)\n",
            "Requirement already satisfied: scipy>=0.18.1 in /usr/local/lib/python3.7/dist-packages (from gensim) (1.7.3)\n"
          ]
        }
      ]
    },
    {
      "cell_type": "code",
      "source": [
        "from gensim import corpora\n",
        "from collections import defaultdict\n",
        "from gensim import models\n",
        "from gensim import similarities"
      ],
      "metadata": {
        "id": "YTfWMRfIp6AS"
      },
      "execution_count": 2,
      "outputs": []
    },
    {
      "cell_type": "code",
      "source": [
        "!gdown https://drive.google.com/u/0/uc?id=1h2MKL17EPT6F5sRYGSrYvA-jMlnoRbZZ&export=download"
      ],
      "metadata": {
        "colab": {
          "base_uri": "https://localhost:8080/"
        },
        "id": "Yjx1PRZMqJwi",
        "outputId": "d25ef8ce-89d7-4f52-95ec-29ae0e2a8af1"
      },
      "execution_count": 3,
      "outputs": [
        {
          "output_type": "stream",
          "name": "stdout",
          "text": [
            "Downloading...\n",
            "From: https://drive.google.com/u/0/uc?id=1h2MKL17EPT6F5sRYGSrYvA-jMlnoRbZZ\n",
            "To: /content/data.txt\n",
            "\r  0% 0.00/4.30k [00:00<?, ?B/s]\r100% 4.30k/4.30k [00:00<00:00, 3.90MB/s]\n"
          ]
        }
      ]
    },
    {
      "cell_type": "code",
      "source": [
        "with open(\"data.txt\",\"r\") as f:\n",
        "  text_corpus = f.read().splitlines()\n",
        "  while('' in text_corpus):\n",
        "    text_corpus.remove('')\n",
        "print(text_corpus)"
      ],
      "metadata": {
        "colab": {
          "base_uri": "https://localhost:8080/"
        },
        "id": "CuEpoCYIrYB1",
        "outputId": "ff9ee112-46a4-4837-d095-657013483cea"
      },
      "execution_count": 4,
      "outputs": [
        {
          "output_type": "stream",
          "name": "stdout",
          "text": [
            "['Morgan Stanley commits to mobilizing $1 trillion by 2030 for sustainable solutions that include helping prevent and mitigate climate change.', 'Public health emergencies, social and economic inequality and the ramifications of climate change stand among the most immediate and pressing global issues of our time. In response, governments, corporations and investors have rallied around sustainability efforts, not only to preserve our planet for current and future generations, but also to improve the standard of living for diverse communities.', 'Morgan Stanley has been a leader in prioritizing environmental, social and governance (ESG) practices for more than a decade. Now, the firm has pledged to mobilize at least $750 billion of low-carbon solutions, tripling our original commitment set in 2018. This enhancement is part of a larger goal to facilitate $1 trillion of sustainable solutions by 2030 that support the United Nations’ Sustainable Development Goals—a scale of capital that reflects the growing severity and urgency of these global challenges.', 'Morgan Stanley also joined the United Nations-convened Net-Zero Banking Alliance, which coordinates 43 of the world’s leading banks to accelerate the transition to net zero, a state in which the amount of carbon produced is offset by the amount removed from the atmosphere. The alliance provides a common framework for banks to set, communicate and achieve 2050, 2030 and nearer-term targets, and engage with clients on decarbonization efforts.', '“The convergence of recent crises in climate, health and social justice underscore the interconnections between environmental, societal and structural issues. It is imperative for business and finance to accelerate our efforts to drive positive global, systemic change,” says Audrey Choi, Morgan Stanley’s Chief Sustainability Officer and CEO of the Institute for Sustainable Investing. “We are tripling our low-carbon commitment and increasing our efforts to achieve the Sustainable Development Goals for the simple reason that there is no time to waste. As a leader in sustainable finance, it is our obligation to do more to support businesses, governments and individuals in securing a more sustainable world for future generations.”', 'To reach our $1 trillion target, we will work with corporations, governments and individuals to provide clean tech and renewable energy finance, green bonds and other transactions. In the first two years of our commitment, we have so far mobilized $80 billion for low-carbon financing.', 'Morgan Stanley’s Climate Change Commitments', 'The firm’s latest climate initiative builds on its 2020 pledge to achieve net-zero financed emissions by 2050, in line with the Paris Agreement. Last year, Morgan Stanley also joined the Steering Committee of the Partnership for Carbon Accounting Financials to develop the tools and methodologies to measure and disclose our carbon-related activities. Both efforts were the first of their kind for a large U.S. bank.', 'Morgan Stanley’s other climate commitments include achieving carbon neutrality across global operations by 2022—a goal that was set in 2017—to power 100% of global operational electricity needs from renewable sources and offset any remaining emissions. To achieve this, the firm is exploring on-site power generation, securing power-purchase agreements and purchasing renewable energy credits and carbon offsets.', 'In our other ESG work, the firm has supported green, social, sustainability and blue bond transactions valued at approximately $83 billion, including the issuance of its own inaugural $500 million green bond in 2015. Last year, Morgan Stanley also issued a $1 billion social bond to support projects to build affordable housing.', 'The firm’s longstanding integration of ESG practices and commitment to help mitigate some of the world’s biggest sustainability challenges, such as climate change and plastic waste, date back to 2009, when Morgan Stanley established its Global Sustainable Finance group. It extended that commitment further in 2013, founding the Institute for Sustainable Investing, chaired by CEO James P. Gorman, dedicated to product innovation, thought leadership and building the next generation of sustainable finance leaders. ']\n"
          ]
        }
      ]
    },
    {
      "cell_type": "code",
      "source": [
        "# Create a set of frequent words\n",
        "stoplist = set('for a of the and to in at is on as this it its by that also have our has from which with we'.split(' '))\n",
        "# Lowercase each document, split it by white space and filter out stopwords\n",
        "texts = [[word for word in document.lower().replace('.', '').replace(',', '').replace('“', '').replace('”', '').replace('(', '').replace(')', '').split() if word not in stoplist]for document in text_corpus]\n",
        "print(texts)"
      ],
      "metadata": {
        "colab": {
          "base_uri": "https://localhost:8080/"
        },
        "id": "sXsiAZBzkAth",
        "outputId": "a9e871e7-47f7-4106-d673-738b3a1785a3"
      },
      "execution_count": 5,
      "outputs": [
        {
          "output_type": "stream",
          "name": "stdout",
          "text": [
            "[['morgan', 'stanley', 'commits', 'mobilizing', '$1', 'trillion', '2030', 'sustainable', 'solutions', 'include', 'helping', 'prevent', 'mitigate', 'climate', 'change'], ['public', 'health', 'emergencies', 'social', 'economic', 'inequality', 'ramifications', 'climate', 'change', 'stand', 'among', 'most', 'immediate', 'pressing', 'global', 'issues', 'time', 'response', 'governments', 'corporations', 'investors', 'rallied', 'around', 'sustainability', 'efforts', 'not', 'only', 'preserve', 'planet', 'current', 'future', 'generations', 'but', 'improve', 'standard', 'living', 'diverse', 'communities'], ['morgan', 'stanley', 'been', 'leader', 'prioritizing', 'environmental', 'social', 'governance', 'esg', 'practices', 'more', 'than', 'decade', 'now', 'firm', 'pledged', 'mobilize', 'least', '$750', 'billion', 'low-carbon', 'solutions', 'tripling', 'original', 'commitment', 'set', '2018', 'enhancement', 'part', 'larger', 'goal', 'facilitate', '$1', 'trillion', 'sustainable', 'solutions', '2030', 'support', 'united', 'nations’', 'sustainable', 'development', 'goals—a', 'scale', 'capital', 'reflects', 'growing', 'severity', 'urgency', 'these', 'global', 'challenges'], ['morgan', 'stanley', 'joined', 'united', 'nations-convened', 'net-zero', 'banking', 'alliance', 'coordinates', '43', 'world’s', 'leading', 'banks', 'accelerate', 'transition', 'net', 'zero', 'state', 'amount', 'carbon', 'produced', 'offset', 'amount', 'removed', 'atmosphere', 'alliance', 'provides', 'common', 'framework', 'banks', 'set', 'communicate', 'achieve', '2050', '2030', 'nearer-term', 'targets', 'engage', 'clients', 'decarbonization', 'efforts'], ['convergence', 'recent', 'crises', 'climate', 'health', 'social', 'justice', 'underscore', 'interconnections', 'between', 'environmental', 'societal', 'structural', 'issues', 'imperative', 'business', 'finance', 'accelerate', 'efforts', 'drive', 'positive', 'global', 'systemic', 'change', 'says', 'audrey', 'choi', 'morgan', 'stanley’s', 'chief', 'sustainability', 'officer', 'ceo', 'institute', 'sustainable', 'investing', 'are', 'tripling', 'low-carbon', 'commitment', 'increasing', 'efforts', 'achieve', 'sustainable', 'development', 'goals', 'simple', 'reason', 'there', 'no', 'time', 'waste', 'leader', 'sustainable', 'finance', 'obligation', 'do', 'more', 'support', 'businesses', 'governments', 'individuals', 'securing', 'more', 'sustainable', 'world', 'future', 'generations'], ['reach', '$1', 'trillion', 'target', 'will', 'work', 'corporations', 'governments', 'individuals', 'provide', 'clean', 'tech', 'renewable', 'energy', 'finance', 'green', 'bonds', 'other', 'transactions', 'first', 'two', 'years', 'commitment', 'so', 'far', 'mobilized', '$80', 'billion', 'low-carbon', 'financing'], ['morgan', 'stanley’s', 'climate', 'change', 'commitments'], ['firm’s', 'latest', 'climate', 'initiative', 'builds', '2020', 'pledge', 'achieve', 'net-zero', 'financed', 'emissions', '2050', 'line', 'paris', 'agreement', 'last', 'year', 'morgan', 'stanley', 'joined', 'steering', 'committee', 'partnership', 'carbon', 'accounting', 'financials', 'develop', 'tools', 'methodologies', 'measure', 'disclose', 'carbon-related', 'activities', 'both', 'efforts', 'were', 'first', 'their', 'kind', 'large', 'us', 'bank'], ['morgan', 'stanley’s', 'other', 'climate', 'commitments', 'include', 'achieving', 'carbon', 'neutrality', 'across', 'global', 'operations', '2022—a', 'goal', 'was', 'set', '2017—to', 'power', '100%', 'global', 'operational', 'electricity', 'needs', 'renewable', 'sources', 'offset', 'any', 'remaining', 'emissions', 'achieve', 'firm', 'exploring', 'on-site', 'power', 'generation', 'securing', 'power-purchase', 'agreements', 'purchasing', 'renewable', 'energy', 'credits', 'carbon', 'offsets'], ['other', 'esg', 'work', 'firm', 'supported', 'green', 'social', 'sustainability', 'blue', 'bond', 'transactions', 'valued', 'approximately', '$83', 'billion', 'including', 'issuance', 'own', 'inaugural', '$500', 'million', 'green', 'bond', '2015', 'last', 'year', 'morgan', 'stanley', 'issued', '$1', 'billion', 'social', 'bond', 'support', 'projects', 'build', 'affordable', 'housing'], ['firm’s', 'longstanding', 'integration', 'esg', 'practices', 'commitment', 'help', 'mitigate', 'some', 'world’s', 'biggest', 'sustainability', 'challenges', 'such', 'climate', 'change', 'plastic', 'waste', 'date', 'back', '2009', 'when', 'morgan', 'stanley', 'established', 'global', 'sustainable', 'finance', 'group', 'extended', 'commitment', 'further', '2013', 'founding', 'institute', 'sustainable', 'investing', 'chaired', 'ceo', 'james', 'p', 'gorman', 'dedicated', 'product', 'innovation', 'thought', 'leadership', 'building', 'next', 'generation', 'sustainable', 'finance', 'leaders']]\n"
          ]
        }
      ]
    },
    {
      "cell_type": "code",
      "source": [
        "# Count word frequencies\n",
        "frequency = defaultdict(int)\n",
        "for text in texts:\n",
        "  for token in text:\n",
        "      frequency[token] += 1\n",
        "\n",
        "# Only keep words that appear more than once\n",
        "processed_corpus = [[token for token in text if frequency[token] > 1] for text in texts]\n",
        "print(processed_corpus)"
      ],
      "metadata": {
        "colab": {
          "base_uri": "https://localhost:8080/"
        },
        "id": "DYqNn2WzhW2h",
        "outputId": "4e84e7a1-c12c-4d75-e718-0c38d6ff4d21"
      },
      "execution_count": 6,
      "outputs": [
        {
          "output_type": "stream",
          "name": "stdout",
          "text": [
            "[['morgan', 'stanley', '$1', 'trillion', '2030', 'sustainable', 'solutions', 'include', 'mitigate', 'climate', 'change'], ['health', 'social', 'climate', 'change', 'global', 'issues', 'time', 'governments', 'corporations', 'sustainability', 'efforts', 'future', 'generations'], ['morgan', 'stanley', 'leader', 'environmental', 'social', 'esg', 'practices', 'more', 'firm', 'billion', 'low-carbon', 'solutions', 'tripling', 'commitment', 'set', 'goal', '$1', 'trillion', 'sustainable', 'solutions', '2030', 'support', 'united', 'sustainable', 'development', 'global', 'challenges'], ['morgan', 'stanley', 'joined', 'united', 'net-zero', 'alliance', 'world’s', 'banks', 'accelerate', 'amount', 'carbon', 'offset', 'amount', 'alliance', 'banks', 'set', 'achieve', '2050', '2030', 'efforts'], ['climate', 'health', 'social', 'environmental', 'issues', 'finance', 'accelerate', 'efforts', 'global', 'change', 'morgan', 'stanley’s', 'sustainability', 'ceo', 'institute', 'sustainable', 'investing', 'tripling', 'low-carbon', 'commitment', 'efforts', 'achieve', 'sustainable', 'development', 'time', 'waste', 'leader', 'sustainable', 'finance', 'more', 'support', 'governments', 'individuals', 'securing', 'more', 'sustainable', 'future', 'generations'], ['$1', 'trillion', 'work', 'corporations', 'governments', 'individuals', 'renewable', 'energy', 'finance', 'green', 'other', 'transactions', 'first', 'commitment', 'billion', 'low-carbon'], ['morgan', 'stanley’s', 'climate', 'change', 'commitments'], ['firm’s', 'climate', 'achieve', 'net-zero', 'emissions', '2050', 'last', 'year', 'morgan', 'stanley', 'joined', 'carbon', 'efforts', 'first'], ['morgan', 'stanley’s', 'other', 'climate', 'commitments', 'include', 'carbon', 'global', 'goal', 'set', 'power', 'global', 'renewable', 'offset', 'emissions', 'achieve', 'firm', 'power', 'generation', 'securing', 'renewable', 'energy', 'carbon'], ['other', 'esg', 'work', 'firm', 'green', 'social', 'sustainability', 'bond', 'transactions', 'billion', 'green', 'bond', 'last', 'year', 'morgan', 'stanley', '$1', 'billion', 'social', 'bond', 'support'], ['firm’s', 'esg', 'practices', 'commitment', 'mitigate', 'world’s', 'sustainability', 'challenges', 'climate', 'change', 'waste', 'morgan', 'stanley', 'global', 'sustainable', 'finance', 'commitment', 'institute', 'sustainable', 'investing', 'ceo', 'generation', 'sustainable', 'finance']]\n"
          ]
        }
      ]
    },
    {
      "cell_type": "code",
      "source": [
        "dictionary = corpora.Dictionary(processed_corpus)\n",
        "num = len(dictionary)\n",
        "print(dictionary)"
      ],
      "metadata": {
        "colab": {
          "base_uri": "https://localhost:8080/"
        },
        "id": "n4bAyHaqqK1J",
        "outputId": "f32f2e29-3305-4f7e-c4d3-40ff5c59f7fc"
      },
      "execution_count": 7,
      "outputs": [
        {
          "output_type": "stream",
          "name": "stdout",
          "text": [
            "Dictionary(72 unique tokens: ['$1', '2030', 'change', 'climate', 'include']...)\n"
          ]
        }
      ]
    },
    {
      "cell_type": "code",
      "source": [
        "print(dictionary.token2id)"
      ],
      "metadata": {
        "colab": {
          "base_uri": "https://localhost:8080/"
        },
        "id": "BKGHD8PfqsfK",
        "outputId": "8392b44a-f9b1-4c2d-a0d4-7a28e49ecfe2"
      },
      "execution_count": 8,
      "outputs": [
        {
          "output_type": "stream",
          "name": "stdout",
          "text": [
            "{'$1': 0, '2030': 1, 'change': 2, 'climate': 3, 'include': 4, 'mitigate': 5, 'morgan': 6, 'solutions': 7, 'stanley': 8, 'sustainable': 9, 'trillion': 10, 'corporations': 11, 'efforts': 12, 'future': 13, 'generations': 14, 'global': 15, 'governments': 16, 'health': 17, 'issues': 18, 'social': 19, 'sustainability': 20, 'time': 21, 'billion': 22, 'challenges': 23, 'commitment': 24, 'development': 25, 'environmental': 26, 'esg': 27, 'firm': 28, 'goal': 29, 'leader': 30, 'low-carbon': 31, 'more': 32, 'practices': 33, 'set': 34, 'support': 35, 'tripling': 36, 'united': 37, '2050': 38, 'accelerate': 39, 'achieve': 40, 'alliance': 41, 'amount': 42, 'banks': 43, 'carbon': 44, 'joined': 45, 'net-zero': 46, 'offset': 47, 'world’s': 48, 'ceo': 49, 'finance': 50, 'individuals': 51, 'institute': 52, 'investing': 53, 'securing': 54, 'stanley’s': 55, 'waste': 56, 'energy': 57, 'first': 58, 'green': 59, 'other': 60, 'renewable': 61, 'transactions': 62, 'work': 63, 'commitments': 64, 'emissions': 65, 'firm’s': 66, 'last': 67, 'year': 68, 'generation': 69, 'power': 70, 'bond': 71}\n"
          ]
        }
      ]
    },
    {
      "cell_type": "code",
      "source": [
        "bow_corpus = [dictionary.doc2bow(text) for text in processed_corpus]\n",
        "print(bow_corpus)"
      ],
      "metadata": {
        "colab": {
          "base_uri": "https://localhost:8080/"
        },
        "id": "skTW8sA-q1I0",
        "outputId": "625f3e5e-ab58-4543-d732-d7de2cce735f"
      },
      "execution_count": 9,
      "outputs": [
        {
          "output_type": "stream",
          "name": "stdout",
          "text": [
            "[[(0, 1), (1, 1), (2, 1), (3, 1), (4, 1), (5, 1), (6, 1), (7, 1), (8, 1), (9, 1), (10, 1)], [(2, 1), (3, 1), (11, 1), (12, 1), (13, 1), (14, 1), (15, 1), (16, 1), (17, 1), (18, 1), (19, 1), (20, 1), (21, 1)], [(0, 1), (1, 1), (6, 1), (7, 2), (8, 1), (9, 2), (10, 1), (15, 1), (19, 1), (22, 1), (23, 1), (24, 1), (25, 1), (26, 1), (27, 1), (28, 1), (29, 1), (30, 1), (31, 1), (32, 1), (33, 1), (34, 1), (35, 1), (36, 1), (37, 1)], [(1, 1), (6, 1), (8, 1), (12, 1), (34, 1), (37, 1), (38, 1), (39, 1), (40, 1), (41, 2), (42, 2), (43, 2), (44, 1), (45, 1), (46, 1), (47, 1), (48, 1)], [(2, 1), (3, 1), (6, 1), (9, 4), (12, 2), (13, 1), (14, 1), (15, 1), (16, 1), (17, 1), (18, 1), (19, 1), (20, 1), (21, 1), (24, 1), (25, 1), (26, 1), (30, 1), (31, 1), (32, 2), (35, 1), (36, 1), (39, 1), (40, 1), (49, 1), (50, 2), (51, 1), (52, 1), (53, 1), (54, 1), (55, 1), (56, 1)], [(0, 1), (10, 1), (11, 1), (16, 1), (22, 1), (24, 1), (31, 1), (50, 1), (51, 1), (57, 1), (58, 1), (59, 1), (60, 1), (61, 1), (62, 1), (63, 1)], [(2, 1), (3, 1), (6, 1), (55, 1), (64, 1)], [(3, 1), (6, 1), (8, 1), (12, 1), (38, 1), (40, 1), (44, 1), (45, 1), (46, 1), (58, 1), (65, 1), (66, 1), (67, 1), (68, 1)], [(3, 1), (4, 1), (6, 1), (15, 2), (28, 1), (29, 1), (34, 1), (40, 1), (44, 2), (47, 1), (54, 1), (55, 1), (57, 1), (60, 1), (61, 2), (64, 1), (65, 1), (69, 1), (70, 2)], [(0, 1), (6, 1), (8, 1), (19, 2), (20, 1), (22, 2), (27, 1), (28, 1), (35, 1), (59, 2), (60, 1), (62, 1), (63, 1), (67, 1), (68, 1), (71, 3)], [(2, 1), (3, 1), (5, 1), (6, 1), (8, 1), (9, 3), (15, 1), (20, 1), (23, 1), (24, 2), (27, 1), (33, 1), (48, 1), (49, 1), (50, 2), (52, 1), (53, 1), (56, 1), (66, 1), (69, 1)]]\n"
          ]
        }
      ]
    },
    {
      "cell_type": "code",
      "source": [
        "# train the model\n",
        "tfidf = models.TfidfModel(bow_corpus)\n",
        "index = similarities.SparseMatrixSimilarity(tfidf[bow_corpus], num_features=num)"
      ],
      "metadata": {
        "id": "sqPj3Y-qq73u"
      },
      "execution_count": 10,
      "outputs": []
    },
    {
      "cell_type": "code",
      "source": [
        "query_document = 'climate change'.split()\n",
        "query_bow = dictionary.doc2bow(query_document)\n",
        "sims = index[tfidf[query_bow]]\n",
        "print(list(enumerate(sims)))"
      ],
      "metadata": {
        "colab": {
          "base_uri": "https://localhost:8080/"
        },
        "id": "suvLBpkOroDX",
        "outputId": "6dac765e-8671-42e3-ef91-e68963db6f16"
      },
      "execution_count": 11,
      "outputs": [
        {
          "output_type": "stream",
          "name": "stdout",
          "text": [
            "[(0, 0.2317767), (1, 0.18690857), (2, 0.0), (3, 0.0), (4, 0.09195674), (5, 0.0), (6, 0.38892072), (7, 0.04279038), (8, 0.025933066), (9, 0.0), (10, 0.12403794)]\n"
          ]
        }
      ]
    },
    {
      "cell_type": "code",
      "source": [
        "for document_number, score in sorted(enumerate(sims), key=lambda x: x[1], reverse=True):\n",
        "  print(document_number, score)"
      ],
      "metadata": {
        "colab": {
          "base_uri": "https://localhost:8080/"
        },
        "id": "50v42K98sYhx",
        "outputId": "b9991c4f-f0ce-4e8f-88c0-c7db81e9a19f"
      },
      "execution_count": 12,
      "outputs": [
        {
          "output_type": "stream",
          "name": "stdout",
          "text": [
            "6 0.38892072\n",
            "0 0.2317767\n",
            "1 0.18690857\n",
            "10 0.12403794\n",
            "4 0.09195674\n",
            "7 0.04279038\n",
            "8 0.025933066\n",
            "2 0.0\n",
            "3 0.0\n",
            "5 0.0\n",
            "9 0.0\n"
          ]
        }
      ]
    }
  ]
}