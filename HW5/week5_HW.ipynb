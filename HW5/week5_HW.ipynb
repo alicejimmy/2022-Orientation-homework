{
  "nbformat": 4,
  "nbformat_minor": 0,
  "metadata": {
    "colab": {
      "name": "week5_HW.ipynb",
      "provenance": []
    },
    "kernelspec": {
      "name": "python3",
      "display_name": "Python 3"
    },
    "language_info": {
      "name": "python"
    },
    "accelerator": "GPU",
    "gpuClass": "standard"
  },
  "cells": [
    {
      "cell_type": "code",
      "metadata": {
        "id": "3_hJ2LPd7QvA"
      },
      "source": [
        "import torch\n",
        "import torch.nn as nn\n",
        "from torch.utils.data import Dataset,DataLoader\n",
        "import torch.nn.functional as F\n",
        "\n",
        "from sklearn import datasets\n",
        "from sklearn.model_selection import train_test_split\n",
        "from sklearn.preprocessing import MinMaxScaler\n",
        "\n",
        "import pandas as pd\n",
        "import numpy as np"
      ],
      "execution_count": 1,
      "outputs": []
    },
    {
      "cell_type": "code",
      "source": [
        "# 使用gpu\n",
        "device = torch.device('cuda' if torch.cuda.is_available() else 'cpu')\n",
        "torch.cuda.is_available()"
      ],
      "metadata": {
        "colab": {
          "base_uri": "https://localhost:8080/"
        },
        "id": "SB5kv1dRQl-2",
        "outputId": "d846e746-c370-47cd-a64d-301bed338978"
      },
      "execution_count": 2,
      "outputs": [
        {
          "output_type": "execute_result",
          "data": {
            "text/plain": [
              "True"
            ]
          },
          "metadata": {},
          "execution_count": 2
        }
      ]
    },
    {
      "cell_type": "code",
      "source": [
        "iris = datasets.load_iris()\n",
        "iris_x = iris.data\n",
        "iris_y = iris.target\n",
        "print(type(iris_x))\n",
        "print(iris_x.shape)\n",
        "print(type(iris_y))\n",
        "print(iris_y.shape)"
      ],
      "metadata": {
        "colab": {
          "base_uri": "https://localhost:8080/"
        },
        "id": "X19G49bLQsSE",
        "outputId": "b8b5ad93-e409-4807-fad4-27b91b0fd407"
      },
      "execution_count": 3,
      "outputs": [
        {
          "output_type": "stream",
          "name": "stdout",
          "text": [
            "<class 'numpy.ndarray'>\n",
            "(150, 4)\n",
            "<class 'numpy.ndarray'>\n",
            "(150,)\n"
          ]
        }
      ]
    },
    {
      "cell_type": "code",
      "metadata": {
        "id": "gZWySpmm8tKX"
      },
      "source": [
        "minmax = MinMaxScaler()\n",
        "iris_x = minmax.fit_transform(iris_x)"
      ],
      "execution_count": 4,
      "outputs": []
    },
    {
      "cell_type": "code",
      "metadata": {
        "colab": {
          "base_uri": "https://localhost:8080/"
        },
        "id": "MO30Ay--9Ht1",
        "outputId": "dc195853-2bd5-4769-f85a-0e4146c925ec"
      },
      "source": [
        "train_x,valid_x,train_y,valid_y = train_test_split(iris_x,iris_y,test_size=0.15)\n",
        "print(train_x.shape)\n",
        "print(train_y.shape)\n",
        "print(valid_x.shape)\n",
        "print(valid_x.shape)"
      ],
      "execution_count": 5,
      "outputs": [
        {
          "output_type": "stream",
          "name": "stdout",
          "text": [
            "(127, 4)\n",
            "(127,)\n",
            "(23, 4)\n",
            "(23, 4)\n"
          ]
        }
      ]
    },
    {
      "cell_type": "code",
      "metadata": {
        "id": "NowZbB2n968a"
      },
      "source": [
        "train_x = torch.tensor(train_x,dtype=torch.float32)\n",
        "train_y = torch.tensor(train_y,dtype=torch.long)\n",
        "valid_x = torch.tensor(valid_x,dtype=torch.float32)\n",
        "valid_y = torch.tensor(valid_y,dtype=torch.long)"
      ],
      "execution_count": 6,
      "outputs": []
    },
    {
      "cell_type": "code",
      "metadata": {
        "id": "TcbRhvsw7vxu"
      },
      "source": [
        "class dataset(Dataset):\n",
        "  def __init__(self,x,y):\n",
        "    self.x = x\n",
        "    self.y = y\n",
        "    self.n_sample = len(x)\n",
        "  def __getitem__(self,index):\n",
        "    return self.x[index],self.y[index]\n",
        "  def __len__(self):\n",
        "    return self.n_sample\n",
        "  \n",
        "train_set = dataset(train_x,train_y)"
      ],
      "execution_count": 7,
      "outputs": []
    },
    {
      "cell_type": "code",
      "metadata": {
        "id": "M0Z27AWE8JnK"
      },
      "source": [
        "train_loader = DataLoader(dataset=train_set ,batch_size=10, shuffle=True)"
      ],
      "execution_count": 8,
      "outputs": []
    },
    {
      "cell_type": "code",
      "metadata": {
        "id": "xM771B6UGJaV",
        "colab": {
          "base_uri": "https://localhost:8080/"
        },
        "outputId": "49a13cd9-fc51-46f7-f272-55f3c74cabe4"
      },
      "source": [
        "class Model(nn.Module):\n",
        "  def __init__(self):\n",
        "    super(Model,self).__init__()\n",
        "    self.fc1 = nn.Linear(in_features=4, out_features=24)\n",
        "    self.fc2 = nn.Linear(in_features=24, out_features=24)\n",
        "    self.fc3 = nn.Linear(in_features=24, out_features=3)\n",
        "  def forward(self,x):\n",
        "    x = self.fc1(x)\n",
        "    x = F.relu(x)\n",
        "    x = self.fc2(x)\n",
        "    x = F.relu(x)\n",
        "    x = self.fc3(x)\n",
        "    return x\n",
        "\n",
        "model = Model()\n",
        "model.to(device)"
      ],
      "execution_count": 9,
      "outputs": [
        {
          "output_type": "execute_result",
          "data": {
            "text/plain": [
              "Model(\n",
              "  (fc1): Linear(in_features=4, out_features=24, bias=True)\n",
              "  (fc2): Linear(in_features=24, out_features=24, bias=True)\n",
              "  (fc3): Linear(in_features=24, out_features=3, bias=True)\n",
              ")"
            ]
          },
          "metadata": {},
          "execution_count": 9
        }
      ]
    },
    {
      "cell_type": "code",
      "metadata": {
        "id": "L4s8qwUpG9WR"
      },
      "source": [
        "criterion = nn.CrossEntropyLoss()\n",
        "optimizer = torch.optim.Adam(model.parameters(), lr=0.001)\n",
        "epoch = 30\n",
        "n_batch=len(train_loader)"
      ],
      "execution_count": 10,
      "outputs": []
    },
    {
      "cell_type": "code",
      "metadata": {
        "colab": {
          "base_uri": "https://localhost:8080/"
        },
        "id": "u4cZIq_ZHj01",
        "outputId": "882b719d-267a-48fd-e3c4-3892c746c235"
      },
      "source": [
        "for i in range(epoch):\n",
        "  for j,(samples,labels) in enumerate(train_loader):\n",
        "    samples = samples.to(device)\n",
        "    labels = labels.to(device)\n",
        "\n",
        "    pre = model(samples)\n",
        "    labels=labels.view(-1)\n",
        "    loss = criterion(pre,labels)\n",
        "    optimizer.zero_grad()\n",
        "    loss.backward()\n",
        "    optimizer.step()\n",
        "    print(f\"epoch = {i+1}/{epoch} batch = {j+1}/{n_batch} loss = {loss:.4f}\",end=' ')\n",
        "    with torch.no_grad():\n",
        "      FILE = 'tmp.pt'\n",
        "      torch.save(model.state_dict(), FILE)\n",
        "      model_tmp = Model()\n",
        "      model_tmp.load_state_dict(torch.load(FILE))\n",
        "\n",
        "      pre = model_tmp(train_x)\n",
        "      _,pre = torch.max(pre,1)\n",
        "      n_sample = len(train_x)\n",
        "      n_correct = ( train_y.view(-1)==pre ).sum()\n",
        "      print(f\"train_acc = {n_correct/n_sample:.4f}\")"
      ],
      "execution_count": 11,
      "outputs": [
        {
          "output_type": "stream",
          "name": "stdout",
          "text": [
            "epoch = 1/30 batch = 1/13 loss = 1.0926 train_acc = 0.3071\n",
            "epoch = 1/30 batch = 2/13 loss = 1.1187 train_acc = 0.3071\n",
            "epoch = 1/30 batch = 3/13 loss = 1.1059 train_acc = 0.3071\n",
            "epoch = 1/30 batch = 4/13 loss = 1.1191 train_acc = 0.3071\n",
            "epoch = 1/30 batch = 5/13 loss = 1.0639 train_acc = 0.3071\n",
            "epoch = 1/30 batch = 6/13 loss = 1.1521 train_acc = 0.3071\n",
            "epoch = 1/30 batch = 7/13 loss = 1.0988 train_acc = 0.3071\n",
            "epoch = 1/30 batch = 8/13 loss = 1.1492 train_acc = 0.3071\n",
            "epoch = 1/30 batch = 9/13 loss = 1.1461 train_acc = 0.3071\n",
            "epoch = 1/30 batch = 10/13 loss = 1.1459 train_acc = 0.3071\n",
            "epoch = 1/30 batch = 11/13 loss = 1.0971 train_acc = 0.3071\n",
            "epoch = 1/30 batch = 12/13 loss = 1.1375 train_acc = 0.3071\n",
            "epoch = 1/30 batch = 13/13 loss = 1.0597 train_acc = 0.3071\n",
            "epoch = 2/30 batch = 1/13 loss = 1.1555 train_acc = 0.3071\n",
            "epoch = 2/30 batch = 2/13 loss = 1.1307 train_acc = 0.3071\n",
            "epoch = 2/30 batch = 3/13 loss = 1.0918 train_acc = 0.3071\n",
            "epoch = 2/30 batch = 4/13 loss = 1.1440 train_acc = 0.3071\n",
            "epoch = 2/30 batch = 5/13 loss = 1.1283 train_acc = 0.3071\n",
            "epoch = 2/30 batch = 6/13 loss = 1.0707 train_acc = 0.3071\n",
            "epoch = 2/30 batch = 7/13 loss = 1.0857 train_acc = 0.3071\n",
            "epoch = 2/30 batch = 8/13 loss = 1.0441 train_acc = 0.3071\n",
            "epoch = 2/30 batch = 9/13 loss = 1.0981 train_acc = 0.3071\n",
            "epoch = 2/30 batch = 10/13 loss = 1.0774 train_acc = 0.3071\n",
            "epoch = 2/30 batch = 11/13 loss = 1.1081 train_acc = 0.3071\n",
            "epoch = 2/30 batch = 12/13 loss = 1.0764 train_acc = 0.3071\n",
            "epoch = 2/30 batch = 13/13 loss = 1.0730 train_acc = 0.3071\n",
            "epoch = 3/30 batch = 1/13 loss = 1.0853 train_acc = 0.3071\n",
            "epoch = 3/30 batch = 2/13 loss = 1.1057 train_acc = 0.3071\n",
            "epoch = 3/30 batch = 3/13 loss = 1.0614 train_acc = 0.3071\n",
            "epoch = 3/30 batch = 4/13 loss = 1.0742 train_acc = 0.3071\n",
            "epoch = 3/30 batch = 5/13 loss = 1.0389 train_acc = 0.3071\n",
            "epoch = 3/30 batch = 6/13 loss = 1.0827 train_acc = 0.3071\n",
            "epoch = 3/30 batch = 7/13 loss = 1.1119 train_acc = 0.3071\n",
            "epoch = 3/30 batch = 8/13 loss = 1.1218 train_acc = 0.3071\n",
            "epoch = 3/30 batch = 9/13 loss = 1.0789 train_acc = 0.3071\n",
            "epoch = 3/30 batch = 10/13 loss = 1.0862 train_acc = 0.3071\n",
            "epoch = 3/30 batch = 11/13 loss = 1.1189 train_acc = 0.3071\n",
            "epoch = 3/30 batch = 12/13 loss = 1.0661 train_acc = 0.3071\n",
            "epoch = 3/30 batch = 13/13 loss = 1.0417 train_acc = 0.3071\n",
            "epoch = 4/30 batch = 1/13 loss = 1.0893 train_acc = 0.3071\n",
            "epoch = 4/30 batch = 2/13 loss = 1.0653 train_acc = 0.3071\n",
            "epoch = 4/30 batch = 3/13 loss = 1.1001 train_acc = 0.3071\n",
            "epoch = 4/30 batch = 4/13 loss = 1.0744 train_acc = 0.3071\n",
            "epoch = 4/30 batch = 5/13 loss = 1.0738 train_acc = 0.3307\n",
            "epoch = 4/30 batch = 6/13 loss = 1.0985 train_acc = 0.3386\n",
            "epoch = 4/30 batch = 7/13 loss = 1.0378 train_acc = 0.4173\n",
            "epoch = 4/30 batch = 8/13 loss = 1.0741 train_acc = 0.4961\n",
            "epoch = 4/30 batch = 9/13 loss = 1.0439 train_acc = 0.5669\n",
            "epoch = 4/30 batch = 10/13 loss = 1.0556 train_acc = 0.6142\n",
            "epoch = 4/30 batch = 11/13 loss = 1.0310 train_acc = 0.6378\n",
            "epoch = 4/30 batch = 12/13 loss = 1.0810 train_acc = 0.6378\n",
            "epoch = 4/30 batch = 13/13 loss = 1.0721 train_acc = 0.6378\n",
            "epoch = 5/30 batch = 1/13 loss = 1.0530 train_acc = 0.6378\n",
            "epoch = 5/30 batch = 2/13 loss = 1.0341 train_acc = 0.6378\n",
            "epoch = 5/30 batch = 3/13 loss = 1.0246 train_acc = 0.6378\n",
            "epoch = 5/30 batch = 4/13 loss = 1.0227 train_acc = 0.6535\n",
            "epoch = 5/30 batch = 5/13 loss = 1.0767 train_acc = 0.6614\n",
            "epoch = 5/30 batch = 6/13 loss = 1.0758 train_acc = 0.6614\n",
            "epoch = 5/30 batch = 7/13 loss = 1.0858 train_acc = 0.6614\n",
            "epoch = 5/30 batch = 8/13 loss = 1.0307 train_acc = 0.6614\n",
            "epoch = 5/30 batch = 9/13 loss = 1.1097 train_acc = 0.6614\n",
            "epoch = 5/30 batch = 10/13 loss = 1.0427 train_acc = 0.6614\n",
            "epoch = 5/30 batch = 11/13 loss = 1.0527 train_acc = 0.6614\n",
            "epoch = 5/30 batch = 12/13 loss = 1.0236 train_acc = 0.6614\n",
            "epoch = 5/30 batch = 13/13 loss = 1.0192 train_acc = 0.6614\n",
            "epoch = 6/30 batch = 1/13 loss = 1.0596 train_acc = 0.6614\n",
            "epoch = 6/30 batch = 2/13 loss = 1.0078 train_acc = 0.6614\n",
            "epoch = 6/30 batch = 3/13 loss = 1.0058 train_acc = 0.6614\n",
            "epoch = 6/30 batch = 4/13 loss = 1.0131 train_acc = 0.6614\n",
            "epoch = 6/30 batch = 5/13 loss = 1.0551 train_acc = 0.6614\n",
            "epoch = 6/30 batch = 6/13 loss = 1.0308 train_acc = 0.6614\n",
            "epoch = 6/30 batch = 7/13 loss = 1.0250 train_acc = 0.6614\n",
            "epoch = 6/30 batch = 8/13 loss = 1.0088 train_acc = 0.6614\n",
            "epoch = 6/30 batch = 9/13 loss = 1.0489 train_acc = 0.6614\n",
            "epoch = 6/30 batch = 10/13 loss = 1.0367 train_acc = 0.6614\n",
            "epoch = 6/30 batch = 11/13 loss = 1.0091 train_acc = 0.6614\n",
            "epoch = 6/30 batch = 12/13 loss = 1.0365 train_acc = 0.6614\n",
            "epoch = 6/30 batch = 13/13 loss = 1.0284 train_acc = 0.6614\n",
            "epoch = 7/30 batch = 1/13 loss = 1.0446 train_acc = 0.6614\n",
            "epoch = 7/30 batch = 2/13 loss = 0.9934 train_acc = 0.6614\n",
            "epoch = 7/30 batch = 3/13 loss = 0.9740 train_acc = 0.6614\n",
            "epoch = 7/30 batch = 4/13 loss = 1.0225 train_acc = 0.6614\n",
            "epoch = 7/30 batch = 5/13 loss = 1.0077 train_acc = 0.6614\n",
            "epoch = 7/30 batch = 6/13 loss = 0.9742 train_acc = 0.6614\n",
            "epoch = 7/30 batch = 7/13 loss = 1.0027 train_acc = 0.6614\n",
            "epoch = 7/30 batch = 8/13 loss = 0.9940 train_acc = 0.6614\n",
            "epoch = 7/30 batch = 9/13 loss = 1.0299 train_acc = 0.6614\n",
            "epoch = 7/30 batch = 10/13 loss = 1.0185 train_acc = 0.6614\n",
            "epoch = 7/30 batch = 11/13 loss = 0.9616 train_acc = 0.6614\n",
            "epoch = 7/30 batch = 12/13 loss = 0.9885 train_acc = 0.6614\n",
            "epoch = 7/30 batch = 13/13 loss = 0.9912 train_acc = 0.6614\n",
            "epoch = 8/30 batch = 1/13 loss = 0.9714 train_acc = 0.6614\n",
            "epoch = 8/30 batch = 2/13 loss = 0.9767 train_acc = 0.6614\n",
            "epoch = 8/30 batch = 3/13 loss = 0.9657 train_acc = 0.6614\n",
            "epoch = 8/30 batch = 4/13 loss = 0.9609 train_acc = 0.6693\n",
            "epoch = 8/30 batch = 5/13 loss = 0.9593 train_acc = 0.6693\n",
            "epoch = 8/30 batch = 6/13 loss = 0.9971 train_acc = 0.6772\n",
            "epoch = 8/30 batch = 7/13 loss = 0.9509 train_acc = 0.6772\n",
            "epoch = 8/30 batch = 8/13 loss = 0.9585 train_acc = 0.6929\n",
            "epoch = 8/30 batch = 9/13 loss = 0.9648 train_acc = 0.7008\n",
            "epoch = 8/30 batch = 10/13 loss = 0.9691 train_acc = 0.7008\n",
            "epoch = 8/30 batch = 11/13 loss = 0.9523 train_acc = 0.7323\n",
            "epoch = 8/30 batch = 12/13 loss = 0.9497 train_acc = 0.7402\n",
            "epoch = 8/30 batch = 13/13 loss = 0.9022 train_acc = 0.7559\n",
            "epoch = 9/30 batch = 1/13 loss = 0.9690 train_acc = 0.7717\n",
            "epoch = 9/30 batch = 2/13 loss = 0.9566 train_acc = 0.8189\n",
            "epoch = 9/30 batch = 3/13 loss = 0.8691 train_acc = 0.8268\n",
            "epoch = 9/30 batch = 4/13 loss = 0.8615 train_acc = 0.8268\n",
            "epoch = 9/30 batch = 5/13 loss = 1.0039 train_acc = 0.8425\n",
            "epoch = 9/30 batch = 6/13 loss = 0.9347 train_acc = 0.8504\n",
            "epoch = 9/30 batch = 7/13 loss = 0.8739 train_acc = 0.8661\n",
            "epoch = 9/30 batch = 8/13 loss = 0.9230 train_acc = 0.8740\n",
            "epoch = 9/30 batch = 9/13 loss = 0.9449 train_acc = 0.8819\n",
            "epoch = 9/30 batch = 10/13 loss = 0.9128 train_acc = 0.8898\n",
            "epoch = 9/30 batch = 11/13 loss = 0.7890 train_acc = 0.8898\n",
            "epoch = 9/30 batch = 12/13 loss = 0.9546 train_acc = 0.8976\n",
            "epoch = 9/30 batch = 13/13 loss = 0.9134 train_acc = 0.9213\n",
            "epoch = 10/30 batch = 1/13 loss = 0.9103 train_acc = 0.9213\n",
            "epoch = 10/30 batch = 2/13 loss = 0.8778 train_acc = 0.9055\n",
            "epoch = 10/30 batch = 3/13 loss = 0.9005 train_acc = 0.9213\n",
            "epoch = 10/30 batch = 4/13 loss = 0.8852 train_acc = 0.9291\n",
            "epoch = 10/30 batch = 5/13 loss = 0.7832 train_acc = 0.9370\n",
            "epoch = 10/30 batch = 6/13 loss = 0.8754 train_acc = 0.9370\n",
            "epoch = 10/30 batch = 7/13 loss = 0.9091 train_acc = 0.9291\n",
            "epoch = 10/30 batch = 8/13 loss = 0.7933 train_acc = 0.9213\n",
            "epoch = 10/30 batch = 9/13 loss = 0.9148 train_acc = 0.9134\n",
            "epoch = 10/30 batch = 10/13 loss = 0.8316 train_acc = 0.9134\n",
            "epoch = 10/30 batch = 11/13 loss = 0.9073 train_acc = 0.9134\n",
            "epoch = 10/30 batch = 12/13 loss = 0.8598 train_acc = 0.9134\n",
            "epoch = 10/30 batch = 13/13 loss = 0.7256 train_acc = 0.9134\n",
            "epoch = 11/30 batch = 1/13 loss = 0.7882 train_acc = 0.9134\n",
            "epoch = 11/30 batch = 2/13 loss = 0.8552 train_acc = 0.9134\n",
            "epoch = 11/30 batch = 3/13 loss = 0.8520 train_acc = 0.9134\n",
            "epoch = 11/30 batch = 4/13 loss = 0.8066 train_acc = 0.9134\n",
            "epoch = 11/30 batch = 5/13 loss = 0.9220 train_acc = 0.9134\n",
            "epoch = 11/30 batch = 6/13 loss = 0.8207 train_acc = 0.9134\n",
            "epoch = 11/30 batch = 7/13 loss = 0.7766 train_acc = 0.9134\n",
            "epoch = 11/30 batch = 8/13 loss = 0.7938 train_acc = 0.9134\n",
            "epoch = 11/30 batch = 9/13 loss = 0.7259 train_acc = 0.9134\n",
            "epoch = 11/30 batch = 10/13 loss = 0.8016 train_acc = 0.9134\n",
            "epoch = 11/30 batch = 11/13 loss = 0.8423 train_acc = 0.9134\n",
            "epoch = 11/30 batch = 12/13 loss = 0.6910 train_acc = 0.9134\n",
            "epoch = 11/30 batch = 13/13 loss = 0.7678 train_acc = 0.9134\n",
            "epoch = 12/30 batch = 1/13 loss = 0.8276 train_acc = 0.9055\n",
            "epoch = 12/30 batch = 2/13 loss = 0.6419 train_acc = 0.8898\n",
            "epoch = 12/30 batch = 3/13 loss = 0.7764 train_acc = 0.8819\n",
            "epoch = 12/30 batch = 4/13 loss = 0.6899 train_acc = 0.8819\n",
            "epoch = 12/30 batch = 5/13 loss = 0.7000 train_acc = 0.8898\n",
            "epoch = 12/30 batch = 6/13 loss = 0.7797 train_acc = 0.8898\n",
            "epoch = 12/30 batch = 7/13 loss = 0.7918 train_acc = 0.8898\n",
            "epoch = 12/30 batch = 8/13 loss = 0.6827 train_acc = 0.8898\n",
            "epoch = 12/30 batch = 9/13 loss = 0.7166 train_acc = 0.8898\n",
            "epoch = 12/30 batch = 10/13 loss = 0.6826 train_acc = 0.8740\n",
            "epoch = 12/30 batch = 11/13 loss = 0.7897 train_acc = 0.8661\n",
            "epoch = 12/30 batch = 12/13 loss = 0.8325 train_acc = 0.8504\n",
            "epoch = 12/30 batch = 13/13 loss = 0.7713 train_acc = 0.8425\n",
            "epoch = 13/30 batch = 1/13 loss = 0.6494 train_acc = 0.8189\n",
            "epoch = 13/30 batch = 2/13 loss = 0.7173 train_acc = 0.8189\n",
            "epoch = 13/30 batch = 3/13 loss = 0.8396 train_acc = 0.8110\n",
            "epoch = 13/30 batch = 4/13 loss = 0.7061 train_acc = 0.8110\n",
            "epoch = 13/30 batch = 5/13 loss = 0.6866 train_acc = 0.8110\n",
            "epoch = 13/30 batch = 6/13 loss = 0.7248 train_acc = 0.8031\n",
            "epoch = 13/30 batch = 7/13 loss = 0.6695 train_acc = 0.7953\n",
            "epoch = 13/30 batch = 8/13 loss = 0.7267 train_acc = 0.7874\n",
            "epoch = 13/30 batch = 9/13 loss = 0.6774 train_acc = 0.7874\n",
            "epoch = 13/30 batch = 10/13 loss = 0.5913 train_acc = 0.7795\n",
            "epoch = 13/30 batch = 11/13 loss = 0.6470 train_acc = 0.7717\n",
            "epoch = 13/30 batch = 12/13 loss = 0.6503 train_acc = 0.7717\n",
            "epoch = 13/30 batch = 13/13 loss = 0.5696 train_acc = 0.7717\n",
            "epoch = 14/30 batch = 1/13 loss = 0.6174 train_acc = 0.7717\n",
            "epoch = 14/30 batch = 2/13 loss = 0.5792 train_acc = 0.7717\n",
            "epoch = 14/30 batch = 3/13 loss = 0.5266 train_acc = 0.7638\n",
            "epoch = 14/30 batch = 4/13 loss = 0.6615 train_acc = 0.7717\n",
            "epoch = 14/30 batch = 5/13 loss = 0.6034 train_acc = 0.7717\n",
            "epoch = 14/30 batch = 6/13 loss = 0.6568 train_acc = 0.7717\n",
            "epoch = 14/30 batch = 7/13 loss = 0.6156 train_acc = 0.7717\n",
            "epoch = 14/30 batch = 8/13 loss = 0.8608 train_acc = 0.7717\n",
            "epoch = 14/30 batch = 9/13 loss = 0.5928 train_acc = 0.7717\n",
            "epoch = 14/30 batch = 10/13 loss = 0.3956 train_acc = 0.7795\n",
            "epoch = 14/30 batch = 11/13 loss = 0.7527 train_acc = 0.7795\n",
            "epoch = 14/30 batch = 12/13 loss = 0.6327 train_acc = 0.7795\n",
            "epoch = 14/30 batch = 13/13 loss = 0.7191 train_acc = 0.7795\n",
            "epoch = 15/30 batch = 1/13 loss = 0.4638 train_acc = 0.7795\n",
            "epoch = 15/30 batch = 2/13 loss = 0.5531 train_acc = 0.7795\n",
            "epoch = 15/30 batch = 3/13 loss = 0.6289 train_acc = 0.7717\n",
            "epoch = 15/30 batch = 4/13 loss = 0.6571 train_acc = 0.7717\n",
            "epoch = 15/30 batch = 5/13 loss = 0.6600 train_acc = 0.7717\n",
            "epoch = 15/30 batch = 6/13 loss = 0.5371 train_acc = 0.7717\n",
            "epoch = 15/30 batch = 7/13 loss = 0.5221 train_acc = 0.7638\n",
            "epoch = 15/30 batch = 8/13 loss = 0.6825 train_acc = 0.7638\n",
            "epoch = 15/30 batch = 9/13 loss = 0.6086 train_acc = 0.7638\n",
            "epoch = 15/30 batch = 10/13 loss = 0.6701 train_acc = 0.7638\n",
            "epoch = 15/30 batch = 11/13 loss = 0.5189 train_acc = 0.7717\n",
            "epoch = 15/30 batch = 12/13 loss = 0.5403 train_acc = 0.7717\n",
            "epoch = 15/30 batch = 13/13 loss = 0.4728 train_acc = 0.7717\n",
            "epoch = 16/30 batch = 1/13 loss = 0.5810 train_acc = 0.7638\n",
            "epoch = 16/30 batch = 2/13 loss = 0.4682 train_acc = 0.7638\n",
            "epoch = 16/30 batch = 3/13 loss = 0.4852 train_acc = 0.7638\n",
            "epoch = 16/30 batch = 4/13 loss = 0.5210 train_acc = 0.7638\n",
            "epoch = 16/30 batch = 5/13 loss = 0.6621 train_acc = 0.7638\n",
            "epoch = 16/30 batch = 6/13 loss = 0.6411 train_acc = 0.7638\n",
            "epoch = 16/30 batch = 7/13 loss = 0.5051 train_acc = 0.7717\n",
            "epoch = 16/30 batch = 8/13 loss = 0.7046 train_acc = 0.7795\n",
            "epoch = 16/30 batch = 9/13 loss = 0.6480 train_acc = 0.7795\n",
            "epoch = 16/30 batch = 10/13 loss = 0.5284 train_acc = 0.7795\n",
            "epoch = 16/30 batch = 11/13 loss = 0.5206 train_acc = 0.7874\n",
            "epoch = 16/30 batch = 12/13 loss = 0.3107 train_acc = 0.7874\n",
            "epoch = 16/30 batch = 13/13 loss = 0.4176 train_acc = 0.7795\n",
            "epoch = 17/30 batch = 1/13 loss = 0.5200 train_acc = 0.7795\n",
            "epoch = 17/30 batch = 2/13 loss = 0.5077 train_acc = 0.7795\n",
            "epoch = 17/30 batch = 3/13 loss = 0.4356 train_acc = 0.7795\n",
            "epoch = 17/30 batch = 4/13 loss = 0.7673 train_acc = 0.7795\n",
            "epoch = 17/30 batch = 5/13 loss = 0.4421 train_acc = 0.7717\n",
            "epoch = 17/30 batch = 6/13 loss = 0.5344 train_acc = 0.7795\n",
            "epoch = 17/30 batch = 7/13 loss = 0.4528 train_acc = 0.7795\n",
            "epoch = 17/30 batch = 8/13 loss = 0.5160 train_acc = 0.7795\n",
            "epoch = 17/30 batch = 9/13 loss = 0.5577 train_acc = 0.7795\n",
            "epoch = 17/30 batch = 10/13 loss = 0.4348 train_acc = 0.7795\n",
            "epoch = 17/30 batch = 11/13 loss = 0.3885 train_acc = 0.7795\n",
            "epoch = 17/30 batch = 12/13 loss = 0.4696 train_acc = 0.7795\n",
            "epoch = 17/30 batch = 13/13 loss = 0.5547 train_acc = 0.7795\n",
            "epoch = 18/30 batch = 1/13 loss = 0.5211 train_acc = 0.7795\n",
            "epoch = 18/30 batch = 2/13 loss = 0.5536 train_acc = 0.7795\n",
            "epoch = 18/30 batch = 3/13 loss = 0.2526 train_acc = 0.7795\n",
            "epoch = 18/30 batch = 4/13 loss = 0.6044 train_acc = 0.7795\n",
            "epoch = 18/30 batch = 5/13 loss = 0.5042 train_acc = 0.7795\n",
            "epoch = 18/30 batch = 6/13 loss = 0.3194 train_acc = 0.7795\n",
            "epoch = 18/30 batch = 7/13 loss = 0.3943 train_acc = 0.7795\n",
            "epoch = 18/30 batch = 8/13 loss = 0.4789 train_acc = 0.7795\n",
            "epoch = 18/30 batch = 9/13 loss = 0.6796 train_acc = 0.7795\n",
            "epoch = 18/30 batch = 10/13 loss = 0.5257 train_acc = 0.7795\n",
            "epoch = 18/30 batch = 11/13 loss = 0.4260 train_acc = 0.7795\n",
            "epoch = 18/30 batch = 12/13 loss = 0.4172 train_acc = 0.7795\n",
            "epoch = 18/30 batch = 13/13 loss = 0.5201 train_acc = 0.7795\n",
            "epoch = 19/30 batch = 1/13 loss = 0.4371 train_acc = 0.7795\n",
            "epoch = 19/30 batch = 2/13 loss = 0.3924 train_acc = 0.7795\n",
            "epoch = 19/30 batch = 3/13 loss = 0.3517 train_acc = 0.7953\n",
            "epoch = 19/30 batch = 4/13 loss = 0.4684 train_acc = 0.8031\n",
            "epoch = 19/30 batch = 5/13 loss = 0.5077 train_acc = 0.8110\n",
            "epoch = 19/30 batch = 6/13 loss = 0.6440 train_acc = 0.8110\n",
            "epoch = 19/30 batch = 7/13 loss = 0.3879 train_acc = 0.8110\n",
            "epoch = 19/30 batch = 8/13 loss = 0.5491 train_acc = 0.8189\n",
            "epoch = 19/30 batch = 9/13 loss = 0.3072 train_acc = 0.8189\n",
            "epoch = 19/30 batch = 10/13 loss = 0.4251 train_acc = 0.8189\n",
            "epoch = 19/30 batch = 11/13 loss = 0.3217 train_acc = 0.8189\n",
            "epoch = 19/30 batch = 12/13 loss = 0.5841 train_acc = 0.8189\n",
            "epoch = 19/30 batch = 13/13 loss = 0.4714 train_acc = 0.8189\n",
            "epoch = 20/30 batch = 1/13 loss = 0.5187 train_acc = 0.8189\n",
            "epoch = 20/30 batch = 2/13 loss = 0.4716 train_acc = 0.8189\n",
            "epoch = 20/30 batch = 3/13 loss = 0.3826 train_acc = 0.8425\n",
            "epoch = 20/30 batch = 4/13 loss = 0.4554 train_acc = 0.8504\n",
            "epoch = 20/30 batch = 5/13 loss = 0.5200 train_acc = 0.8740\n",
            "epoch = 20/30 batch = 6/13 loss = 0.4477 train_acc = 0.8819\n",
            "epoch = 20/30 batch = 7/13 loss = 0.3655 train_acc = 0.8819\n",
            "epoch = 20/30 batch = 8/13 loss = 0.4495 train_acc = 0.8819\n",
            "epoch = 20/30 batch = 9/13 loss = 0.3796 train_acc = 0.8819\n",
            "epoch = 20/30 batch = 10/13 loss = 0.3613 train_acc = 0.8819\n",
            "epoch = 20/30 batch = 11/13 loss = 0.2953 train_acc = 0.8819\n",
            "epoch = 20/30 batch = 12/13 loss = 0.4126 train_acc = 0.8819\n",
            "epoch = 20/30 batch = 13/13 loss = 0.5113 train_acc = 0.8819\n",
            "epoch = 21/30 batch = 1/13 loss = 0.6330 train_acc = 0.8898\n",
            "epoch = 21/30 batch = 2/13 loss = 0.5000 train_acc = 0.8898\n",
            "epoch = 21/30 batch = 3/13 loss = 0.3557 train_acc = 0.8898\n",
            "epoch = 21/30 batch = 4/13 loss = 0.2693 train_acc = 0.8898\n",
            "epoch = 21/30 batch = 5/13 loss = 0.4671 train_acc = 0.8898\n",
            "epoch = 21/30 batch = 6/13 loss = 0.4481 train_acc = 0.8976\n",
            "epoch = 21/30 batch = 7/13 loss = 0.3517 train_acc = 0.9055\n",
            "epoch = 21/30 batch = 8/13 loss = 0.3526 train_acc = 0.9055\n",
            "epoch = 21/30 batch = 9/13 loss = 0.3340 train_acc = 0.9134\n",
            "epoch = 21/30 batch = 10/13 loss = 0.4320 train_acc = 0.9134\n",
            "epoch = 21/30 batch = 11/13 loss = 0.3833 train_acc = 0.9134\n",
            "epoch = 21/30 batch = 12/13 loss = 0.2995 train_acc = 0.9055\n",
            "epoch = 21/30 batch = 13/13 loss = 0.4034 train_acc = 0.9055\n",
            "epoch = 22/30 batch = 1/13 loss = 0.2184 train_acc = 0.9055\n",
            "epoch = 22/30 batch = 2/13 loss = 0.3665 train_acc = 0.9055\n",
            "epoch = 22/30 batch = 3/13 loss = 0.4162 train_acc = 0.9213\n",
            "epoch = 22/30 batch = 4/13 loss = 0.3179 train_acc = 0.9213\n",
            "epoch = 22/30 batch = 5/13 loss = 0.4888 train_acc = 0.9291\n",
            "epoch = 22/30 batch = 6/13 loss = 0.4213 train_acc = 0.9291\n",
            "epoch = 22/30 batch = 7/13 loss = 0.4271 train_acc = 0.9291\n",
            "epoch = 22/30 batch = 8/13 loss = 0.2626 train_acc = 0.9291\n",
            "epoch = 22/30 batch = 9/13 loss = 0.4782 train_acc = 0.9291\n",
            "epoch = 22/30 batch = 10/13 loss = 0.4483 train_acc = 0.9291\n",
            "epoch = 22/30 batch = 11/13 loss = 0.3773 train_acc = 0.9370\n",
            "epoch = 22/30 batch = 12/13 loss = 0.4063 train_acc = 0.9370\n",
            "epoch = 22/30 batch = 13/13 loss = 0.2736 train_acc = 0.9370\n",
            "epoch = 23/30 batch = 1/13 loss = 0.3767 train_acc = 0.9370\n",
            "epoch = 23/30 batch = 2/13 loss = 0.3275 train_acc = 0.9291\n",
            "epoch = 23/30 batch = 3/13 loss = 0.2559 train_acc = 0.9291\n",
            "epoch = 23/30 batch = 4/13 loss = 0.4662 train_acc = 0.9291\n",
            "epoch = 23/30 batch = 5/13 loss = 0.3594 train_acc = 0.9291\n",
            "epoch = 23/30 batch = 6/13 loss = 0.3953 train_acc = 0.9291\n",
            "epoch = 23/30 batch = 7/13 loss = 0.3258 train_acc = 0.9291\n",
            "epoch = 23/30 batch = 8/13 loss = 0.4393 train_acc = 0.9291\n",
            "epoch = 23/30 batch = 9/13 loss = 0.4102 train_acc = 0.9370\n",
            "epoch = 23/30 batch = 10/13 loss = 0.3340 train_acc = 0.9370\n",
            "epoch = 23/30 batch = 11/13 loss = 0.4191 train_acc = 0.9449\n",
            "epoch = 23/30 batch = 12/13 loss = 0.2215 train_acc = 0.9528\n",
            "epoch = 23/30 batch = 13/13 loss = 0.3280 train_acc = 0.9528\n",
            "epoch = 24/30 batch = 1/13 loss = 0.4288 train_acc = 0.9528\n",
            "epoch = 24/30 batch = 2/13 loss = 0.1863 train_acc = 0.9449\n",
            "epoch = 24/30 batch = 3/13 loss = 0.2812 train_acc = 0.9449\n",
            "epoch = 24/30 batch = 4/13 loss = 0.3868 train_acc = 0.9449\n",
            "epoch = 24/30 batch = 5/13 loss = 0.4317 train_acc = 0.9528\n",
            "epoch = 24/30 batch = 6/13 loss = 0.3408 train_acc = 0.9528\n",
            "epoch = 24/30 batch = 7/13 loss = 0.3715 train_acc = 0.9528\n",
            "epoch = 24/30 batch = 8/13 loss = 0.3135 train_acc = 0.9528\n",
            "epoch = 24/30 batch = 9/13 loss = 0.2835 train_acc = 0.9528\n",
            "epoch = 24/30 batch = 10/13 loss = 0.5294 train_acc = 0.9528\n",
            "epoch = 24/30 batch = 11/13 loss = 0.4078 train_acc = 0.9528\n",
            "epoch = 24/30 batch = 12/13 loss = 0.2826 train_acc = 0.9528\n",
            "epoch = 24/30 batch = 13/13 loss = 0.0892 train_acc = 0.9528\n",
            "epoch = 25/30 batch = 1/13 loss = 0.3244 train_acc = 0.9528\n",
            "epoch = 25/30 batch = 2/13 loss = 0.2328 train_acc = 0.9528\n",
            "epoch = 25/30 batch = 3/13 loss = 0.3398 train_acc = 0.9528\n",
            "epoch = 25/30 batch = 4/13 loss = 0.2639 train_acc = 0.9606\n",
            "epoch = 25/30 batch = 5/13 loss = 0.4168 train_acc = 0.9764\n",
            "epoch = 25/30 batch = 6/13 loss = 0.2279 train_acc = 0.9764\n",
            "epoch = 25/30 batch = 7/13 loss = 0.3396 train_acc = 0.9764\n",
            "epoch = 25/30 batch = 8/13 loss = 0.3237 train_acc = 0.9764\n",
            "epoch = 25/30 batch = 9/13 loss = 0.3162 train_acc = 0.9764\n",
            "epoch = 25/30 batch = 10/13 loss = 0.3441 train_acc = 0.9764\n",
            "epoch = 25/30 batch = 11/13 loss = 0.3058 train_acc = 0.9764\n",
            "epoch = 25/30 batch = 12/13 loss = 0.3750 train_acc = 0.9764\n",
            "epoch = 25/30 batch = 13/13 loss = 0.3628 train_acc = 0.9685\n",
            "epoch = 26/30 batch = 1/13 loss = 0.2404 train_acc = 0.9606\n",
            "epoch = 26/30 batch = 2/13 loss = 0.2539 train_acc = 0.9528\n",
            "epoch = 26/30 batch = 3/13 loss = 0.2472 train_acc = 0.9528\n",
            "epoch = 26/30 batch = 4/13 loss = 0.4159 train_acc = 0.9528\n",
            "epoch = 26/30 batch = 5/13 loss = 0.3510 train_acc = 0.9528\n",
            "epoch = 26/30 batch = 6/13 loss = 0.2886 train_acc = 0.9528\n",
            "epoch = 26/30 batch = 7/13 loss = 0.3499 train_acc = 0.9528\n",
            "epoch = 26/30 batch = 8/13 loss = 0.1942 train_acc = 0.9449\n",
            "epoch = 26/30 batch = 9/13 loss = 0.2339 train_acc = 0.9449\n",
            "epoch = 26/30 batch = 10/13 loss = 0.4190 train_acc = 0.9449\n",
            "epoch = 26/30 batch = 11/13 loss = 0.2274 train_acc = 0.9528\n",
            "epoch = 26/30 batch = 12/13 loss = 0.3982 train_acc = 0.9528\n",
            "epoch = 26/30 batch = 13/13 loss = 0.3780 train_acc = 0.9528\n",
            "epoch = 27/30 batch = 1/13 loss = 0.3325 train_acc = 0.9606\n",
            "epoch = 27/30 batch = 2/13 loss = 0.3342 train_acc = 0.9764\n",
            "epoch = 27/30 batch = 3/13 loss = 0.2919 train_acc = 0.9764\n",
            "epoch = 27/30 batch = 4/13 loss = 0.2458 train_acc = 0.9764\n",
            "epoch = 27/30 batch = 5/13 loss = 0.2608 train_acc = 0.9843\n",
            "epoch = 27/30 batch = 6/13 loss = 0.3184 train_acc = 0.9843\n",
            "epoch = 27/30 batch = 7/13 loss = 0.2612 train_acc = 0.9843\n",
            "epoch = 27/30 batch = 8/13 loss = 0.3185 train_acc = 0.9843\n",
            "epoch = 27/30 batch = 9/13 loss = 0.3225 train_acc = 0.9843\n",
            "epoch = 27/30 batch = 10/13 loss = 0.1828 train_acc = 0.9843\n",
            "epoch = 27/30 batch = 11/13 loss = 0.2339 train_acc = 0.9843\n",
            "epoch = 27/30 batch = 12/13 loss = 0.3708 train_acc = 0.9843\n",
            "epoch = 27/30 batch = 13/13 loss = 0.2525 train_acc = 0.9843\n",
            "epoch = 28/30 batch = 1/13 loss = 0.1919 train_acc = 0.9843\n",
            "epoch = 28/30 batch = 2/13 loss = 0.2742 train_acc = 0.9843\n",
            "epoch = 28/30 batch = 3/13 loss = 0.3079 train_acc = 0.9843\n",
            "epoch = 28/30 batch = 4/13 loss = 0.2359 train_acc = 0.9764\n",
            "epoch = 28/30 batch = 5/13 loss = 0.2933 train_acc = 0.9764\n",
            "epoch = 28/30 batch = 6/13 loss = 0.1953 train_acc = 0.9764\n",
            "epoch = 28/30 batch = 7/13 loss = 0.2418 train_acc = 0.9764\n",
            "epoch = 28/30 batch = 8/13 loss = 0.2071 train_acc = 0.9606\n",
            "epoch = 28/30 batch = 9/13 loss = 0.1905 train_acc = 0.9606\n",
            "epoch = 28/30 batch = 10/13 loss = 0.3217 train_acc = 0.9528\n",
            "epoch = 28/30 batch = 11/13 loss = 0.4189 train_acc = 0.9528\n",
            "epoch = 28/30 batch = 12/13 loss = 0.2663 train_acc = 0.9528\n",
            "epoch = 28/30 batch = 13/13 loss = 0.4594 train_acc = 0.9606\n",
            "epoch = 29/30 batch = 1/13 loss = 0.3722 train_acc = 0.9606\n",
            "epoch = 29/30 batch = 2/13 loss = 0.3528 train_acc = 0.9764\n",
            "epoch = 29/30 batch = 3/13 loss = 0.2574 train_acc = 0.9764\n",
            "epoch = 29/30 batch = 4/13 loss = 0.2828 train_acc = 0.9764\n",
            "epoch = 29/30 batch = 5/13 loss = 0.2387 train_acc = 0.9764\n",
            "epoch = 29/30 batch = 6/13 loss = 0.1375 train_acc = 0.9843\n",
            "epoch = 29/30 batch = 7/13 loss = 0.2235 train_acc = 0.9843\n",
            "epoch = 29/30 batch = 8/13 loss = 0.2156 train_acc = 0.9843\n",
            "epoch = 29/30 batch = 9/13 loss = 0.2361 train_acc = 0.9843\n",
            "epoch = 29/30 batch = 10/13 loss = 0.2974 train_acc = 0.9843\n",
            "epoch = 29/30 batch = 11/13 loss = 0.1790 train_acc = 0.9764\n",
            "epoch = 29/30 batch = 12/13 loss = 0.2332 train_acc = 0.9843\n",
            "epoch = 29/30 batch = 13/13 loss = 0.3162 train_acc = 0.9843\n",
            "epoch = 30/30 batch = 1/13 loss = 0.2530 train_acc = 0.9843\n",
            "epoch = 30/30 batch = 2/13 loss = 0.2133 train_acc = 0.9843\n",
            "epoch = 30/30 batch = 3/13 loss = 0.1365 train_acc = 0.9843\n",
            "epoch = 30/30 batch = 4/13 loss = 0.2806 train_acc = 0.9843\n",
            "epoch = 30/30 batch = 5/13 loss = 0.2071 train_acc = 0.9843\n",
            "epoch = 30/30 batch = 6/13 loss = 0.2204 train_acc = 0.9843\n",
            "epoch = 30/30 batch = 7/13 loss = 0.2464 train_acc = 0.9843\n",
            "epoch = 30/30 batch = 8/13 loss = 0.2694 train_acc = 0.9843\n",
            "epoch = 30/30 batch = 9/13 loss = 0.2729 train_acc = 0.9843\n",
            "epoch = 30/30 batch = 10/13 loss = 0.2826 train_acc = 0.9843\n",
            "epoch = 30/30 batch = 11/13 loss = 0.3016 train_acc = 0.9843\n",
            "epoch = 30/30 batch = 12/13 loss = 0.2199 train_acc = 0.9843\n",
            "epoch = 30/30 batch = 13/13 loss = 0.2252 train_acc = 0.9764\n"
          ]
        }
      ]
    },
    {
      "cell_type": "code",
      "source": [
        "# 儲存model\n",
        "FILE = 'model.pt'\n",
        "torch.save(model.state_dict(), FILE)"
      ],
      "metadata": {
        "id": "PZH17j95Tv51"
      },
      "execution_count": 12,
      "outputs": []
    },
    {
      "cell_type": "code",
      "source": [
        "# 讀取儲存後的model\n",
        "model = Model()\n",
        "model.load_state_dict(torch.load(FILE))"
      ],
      "metadata": {
        "colab": {
          "base_uri": "https://localhost:8080/"
        },
        "id": "QNCAVfqITwhZ",
        "outputId": "eafca23d-d25b-40b1-9302-b9b8222edb91"
      },
      "execution_count": 13,
      "outputs": [
        {
          "output_type": "execute_result",
          "data": {
            "text/plain": [
              "<All keys matched successfully>"
            ]
          },
          "metadata": {},
          "execution_count": 13
        }
      ]
    },
    {
      "cell_type": "code",
      "metadata": {
        "colab": {
          "base_uri": "https://localhost:8080/"
        },
        "id": "ttSNZ7siIj9N",
        "outputId": "bb6dd151-a332-4c32-af1f-3b757b110d23"
      },
      "source": [
        "with torch.no_grad():\n",
        "  pre = model(valid_x)\n",
        "  _,pre = torch.max(pre,1)\n",
        "  n_sample = len(valid_x)\n",
        "  n_correct = ( valid_y.view(-1)==pre ).sum()\n",
        "  print(f\"valid_acc = {n_correct/n_sample}\")"
      ],
      "execution_count": 14,
      "outputs": [
        {
          "output_type": "stream",
          "name": "stdout",
          "text": [
            "valid_acc = 0.9130434989929199\n"
          ]
        }
      ]
    }
  ]
}