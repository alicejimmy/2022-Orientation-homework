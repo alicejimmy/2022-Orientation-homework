{
  "nbformat": 4,
  "nbformat_minor": 0,
  "metadata": {
    "colab": {
      "name": "week7_HW.ipynb",
      "provenance": [],
      "collapsed_sections": []
    },
    "kernelspec": {
      "name": "python3",
      "display_name": "Python 3"
    },
    "language_info": {
      "name": "python"
    },
    "accelerator": "GPU",
    "gpuClass": "standard"
  },
  "cells": [
    {
      "cell_type": "code",
      "execution_count": 1,
      "metadata": {
        "id": "1KCS757jZL8Q",
        "colab": {
          "base_uri": "https://localhost:8080/"
        },
        "outputId": "c02df838-3261-4089-9c49-38e6749cebcc"
      },
      "outputs": [
        {
          "output_type": "stream",
          "name": "stdout",
          "text": [
            "Looking in indexes: https://pypi.org/simple, https://us-python.pkg.dev/colab-wheels/public/simple/\n",
            "Collecting pyro-ppl\n",
            "  Downloading pyro_ppl-1.8.1-py3-none-any.whl (718 kB)\n",
            "\u001b[K     |████████████████████████████████| 718 kB 32.6 MB/s \n",
            "\u001b[?25hRequirement already satisfied: opt-einsum>=2.3.2 in /usr/local/lib/python3.7/dist-packages (from pyro-ppl) (3.3.0)\n",
            "Requirement already satisfied: numpy>=1.7 in /usr/local/lib/python3.7/dist-packages (from pyro-ppl) (1.21.6)\n",
            "Requirement already satisfied: tqdm>=4.36 in /usr/local/lib/python3.7/dist-packages (from pyro-ppl) (4.64.0)\n",
            "Collecting pyro-api>=0.1.1\n",
            "  Downloading pyro_api-0.1.2-py3-none-any.whl (11 kB)\n",
            "Requirement already satisfied: torch>=1.11.0 in /usr/local/lib/python3.7/dist-packages (from pyro-ppl) (1.12.1+cu113)\n",
            "Requirement already satisfied: typing-extensions in /usr/local/lib/python3.7/dist-packages (from torch>=1.11.0->pyro-ppl) (4.1.1)\n",
            "Installing collected packages: pyro-api, pyro-ppl\n",
            "Successfully installed pyro-api-0.1.2 pyro-ppl-1.8.1\n"
          ]
        }
      ],
      "source": [
        "!pip install pyro-ppl"
      ]
    },
    {
      "cell_type": "code",
      "source": [
        "import logging\n",
        "import os\n",
        "import torch\n",
        "import numpy as np\n",
        "import pandas as pd\n",
        "import seaborn as sns\n",
        "import matplotlib.pyplot as plt\n",
        "import pyro\n",
        "import pyro.distributions as dist\n",
        "import pyro.distributions.constraints as constraints"
      ],
      "metadata": {
        "id": "aqLC_kKibYON"
      },
      "execution_count": 2,
      "outputs": []
    },
    {
      "cell_type": "code",
      "source": [
        "def data_generate():\n",
        "  rand = torch.randn(100)\n",
        "  x = rand\n",
        "  y = rand * 4 + 2.\n",
        "  return x, y\n",
        "x, y=data_generate()"
      ],
      "metadata": {
        "id": "_5Zi9L8Jdd94"
      },
      "execution_count": 3,
      "outputs": []
    },
    {
      "cell_type": "code",
      "source": [
        "sns.scatterplot(x=x, y=y)\n",
        "plt.xlabel('x') \n",
        "plt.ylabel('y')"
      ],
      "metadata": {
        "colab": {
          "base_uri": "https://localhost:8080/",
          "height": 297
        },
        "id": "CLepbC19dkia",
        "outputId": "f2e3c683-4924-40f1-bd41-faf529330315"
      },
      "execution_count": 4,
      "outputs": [
        {
          "output_type": "execute_result",
          "data": {
            "text/plain": [
              "Text(0, 0.5, 'y')"
            ]
          },
          "metadata": {},
          "execution_count": 4
        },
        {
          "output_type": "display_data",
          "data": {
            "text/plain": [
              "<Figure size 432x288 with 1 Axes>"
            ],
            "image/png": "[encoded data removed]"
          },
          "metadata": {
            "needs_background": "light"
          }
        }
      ]
    },
    {
      "cell_type": "code",
      "source": [
        "def model(x, y=None):\n",
        "  a = pyro.sample(\"a\", dist.Normal(0., 10.))\n",
        "  b = pyro.sample(\"b\", dist.Normal(0., 10.))\n",
        "\n",
        "  mean = a * x + b\n",
        "\n",
        "  with pyro.plate(\"data\", len(x)):\n",
        "    return pyro.sample(\"obs\", dist.Normal(mean, 1), obs=y)\n",
        "\n",
        "pyro.render_model(model, model_args=(x, y), render_distributions=True)"
      ],
      "metadata": {
        "colab": {
          "base_uri": "https://localhost:8080/",
          "height": 250
        },
        "id": "zqwm3O1FfwC0",
        "outputId": "9ebe734d-6885-4edb-9525-75c094f3c448"
      },
      "execution_count": 5,
      "outputs": [
        {
          "output_type": "execute_result",
          "data": {
            "text/plain": [
              "<graphviz.dot.Digraph at 0x7f1c1d5330d0>"
            ],
            "image/svg+xml": "<?xml version=\"1.0\" encoding=\"UTF-8\" standalone=\"no\"?>\n<!DOCTYPE svg PUBLIC \"-//W3C//DTD SVG 1.1//EN\"\n \"http://www.w3.org/Graphics/SVG/1.1/DTD/svg11.dtd\">\n<!-- Generated by graphviz version 2.40.1 (20161225.0304)\n -->\n<!-- Title: %3 Pages: 1 -->\n<svg width=\"248pt\" height=\"172pt\"\n viewBox=\"0.00 0.00 247.50 172.00\" xmlns=\"http://www.w3.org/2000/svg\" xmlns:xlink=\"http://www.w3.org/1999/xlink\">\n<g id=\"graph0\" class=\"graph\" transform=\"scale(1 1) rotate(0) translate(4 168)\">\n<title>%3</title>\n<polygon fill=\"#ffffff\" stroke=\"transparent\" points=\"-4,4 -4,-168 243.5,-168 243.5,4 -4,4\"/>\n<g id=\"clust1\" class=\"cluster\">\n<title>cluster_data</title>\n<polygon fill=\"none\" stroke=\"#000000\" points=\"28,-8 28,-83 98,-83 98,-8 28,-8\"/>\n<text text-anchor=\"middle\" x=\"78\" y=\"-15.8\" font-family=\"Times,serif\" font-size=\"14.00\" fill=\"#000000\">data</text>\n</g>\n<!-- a -->\n<g id=\"node1\" class=\"node\">\n<title>a</title>\n<ellipse fill=\"#ffffff\" stroke=\"#000000\" cx=\"27\" cy=\"-137.5\" rx=\"27\" ry=\"18\"/>\n<text text-anchor=\"middle\" x=\"27\" y=\"-133.8\" font-family=\"Times,serif\" font-size=\"14.00\" fill=\"#000000\">a</text>\n</g>\n<!-- obs -->\n<g id=\"node3\" class=\"node\">\n<title>obs</title>\n<ellipse fill=\"#c0c0c0\" stroke=\"#000000\" cx=\"63\" cy=\"-57\" rx=\"27\" ry=\"18\"/>\n<text text-anchor=\"middle\" x=\"63\" y=\"-53.3\" font-family=\"Times,serif\" font-size=\"14.00\" fill=\"#000000\">obs</text>\n</g>\n<!-- a&#45;&gt;obs -->\n<g id=\"edge1\" class=\"edge\">\n<title>a&#45;&gt;obs</title>\n<path fill=\"none\" stroke=\"#000000\" d=\"M34.8115,-120.0327C39.529,-109.4838 45.6387,-95.8219 50.9634,-83.9152\"/>\n<polygon fill=\"#000000\" stroke=\"#000000\" points=\"54.3164,-84.9908 55.2038,-74.4332 47.9262,-82.1331 54.3164,-84.9908\"/>\n</g>\n<!-- b -->\n<g id=\"node2\" class=\"node\">\n<title>b</title>\n<ellipse fill=\"#ffffff\" stroke=\"#000000\" cx=\"99\" cy=\"-137.5\" rx=\"27\" ry=\"18\"/>\n<text text-anchor=\"middle\" x=\"99\" y=\"-133.8\" font-family=\"Times,serif\" font-size=\"14.00\" fill=\"#000000\">b</text>\n</g>\n<!-- b&#45;&gt;obs -->\n<g id=\"edge2\" class=\"edge\">\n<title>b&#45;&gt;obs</title>\n<path fill=\"none\" stroke=\"#000000\" d=\"M91.1885,-120.0327C86.471,-109.4838 80.3613,-95.8219 75.0366,-83.9152\"/>\n<polygon fill=\"#000000\" stroke=\"#000000\" points=\"78.0738,-82.1331 70.7962,-74.4332 71.6836,-84.9908 78.0738,-82.1331\"/>\n</g>\n<!-- distribution_description_node -->\n<g id=\"node4\" class=\"node\">\n<title>distribution_description_node</title>\n<text text-anchor=\"start\" x=\"152.5\" y=\"-148.8\" font-family=\"Times,serif\" font-size=\"14.00\" fill=\"#000000\">a ~ Normal</text>\n<text text-anchor=\"start\" x=\"152.5\" y=\"-133.8\" font-family=\"Times,serif\" font-size=\"14.00\" fill=\"#000000\">b ~ Normal</text>\n<text text-anchor=\"start\" x=\"152.5\" y=\"-118.8\" font-family=\"Times,serif\" font-size=\"14.00\" fill=\"#000000\">obs ~ Normal</text>\n</g>\n</g>\n</svg>\n"
          },
          "metadata": {},
          "execution_count": 5
        }
      ]
    },
    {
      "cell_type": "code",
      "source": [
        "pyro.clear_param_store()\n",
        "\n",
        "auto_guide = pyro.infer.autoguide.AutoNormal(model)\n",
        "adam = pyro.optim.Adam({\"lr\": 0.001})\n",
        "elbo = pyro.infer.Trace_ELBO()\n",
        "svi = pyro.infer.SVI(model, auto_guide, adam, elbo)\n",
        "\n",
        "losses = []\n",
        "for step in range(10000):\n",
        "    loss = svi.step(x, y)\n",
        "    losses.append(loss)\n",
        "    if step % 1000 == 0:\n",
        "      print(\"Elbo loss: {}\".format(loss))\n",
        "\n",
        "plt.figure(figsize=(5, 2))\n",
        "plt.plot(losses)\n",
        "plt.xlabel(\"SVI step\")\n",
        "plt.ylabel(\"ELBO loss\")"
      ],
      "metadata": {
        "colab": {
          "base_uri": "https://localhost:8080/",
          "height": 370
        },
        "id": "11WgKLLMlwh8",
        "outputId": "ba3638cf-27c1-4eaf-c9ba-8c68391fa0ab"
      },
      "execution_count": 6,
      "outputs": [
        {
          "output_type": "stream",
          "name": "stdout",
          "text": [
            "Elbo loss: 945.9286704063416\n",
            "Elbo loss: 533.5513716936111\n",
            "Elbo loss: 320.3973755836487\n",
            "Elbo loss: 193.75009441375732\n",
            "Elbo loss: 137.95364356040955\n",
            "Elbo loss: 107.55754137039185\n",
            "Elbo loss: 101.19967234134674\n",
            "Elbo loss: 101.15415740013123\n",
            "Elbo loss: 101.02119743824005\n",
            "Elbo loss: 101.10083508491516\n"
          ]
        },
        {
          "output_type": "execute_result",
          "data": {
            "text/plain": [
              "Text(0, 0.5, 'ELBO loss')"
            ]
          },
          "metadata": {},
          "execution_count": 6
        },
        {
          "output_type": "display_data",
          "data": {
            "text/plain": [
              "<Figure size 360x144 with 1 Axes>"
            ],
            "image/png": "[encoded data removed]"
          },
          "metadata": {
            "needs_background": "light"
          }
        }
      ]
    },
    {
      "cell_type": "code",
      "source": [
        "for name, value in pyro.get_param_store().items():\n",
        "    print(name, pyro.param(name).data.cpu().numpy())"
      ],
      "metadata": {
        "colab": {
          "base_uri": "https://localhost:8080/"
        },
        "id": "JCBYEE6ZnMGn",
        "outputId": "5efa039b-d5b4-4ed2-960f-72ee3fcb0ee3"
      },
      "execution_count": 7,
      "outputs": [
        {
          "output_type": "stream",
          "name": "stdout",
          "text": [
            "AutoNormal.locs.a 4.0061994\n",
            "AutoNormal.scales.a 0.107507385\n",
            "AutoNormal.locs.b 1.9872476\n",
            "AutoNormal.scales.b 0.09731518\n"
          ]
        }
      ]
    },
    {
      "cell_type": "code",
      "source": [
        "predictive = pyro.infer.Predictive(model, guide=auto_guide, num_samples=50)\n",
        "svi_samples = predictive(x, y=None)\n",
        "svi_gdp = svi_samples[\"obs\"]"
      ],
      "metadata": {
        "id": "fQiWMLIkoB0U"
      },
      "execution_count": 8,
      "outputs": []
    },
    {
      "cell_type": "code",
      "source": [
        "predictions = pd.DataFrame({\n",
        "    \"x\": x,\n",
        "    \"y_mean\": svi_gdp.mean(0).detach().cpu().numpy(),\n",
        "    \"y_perc_5\": svi_gdp.kthvalue(int(len(svi_gdp) * 0.05), dim=0)[0].detach().cpu().numpy(),\n",
        "    \"y_perc_95\": svi_gdp.kthvalue(int(len(svi_gdp) * 0.95), dim=0)[0].detach().cpu().numpy(),\n",
        "    \"y\": y,\n",
        "})\n",
        "\n",
        "pre = predictions.sort_values(by=[\"y\"])\n",
        "\n",
        "plt.suptitle(\"Posterior predictive distribution with 90% CI\", fontsize=16)\n",
        "plt.plot(pre[\"x\"], pre[\"y_mean\"])\n",
        "plt.fill_between(pre[\"x\"], pre[\"y_perc_5\"], pre[\"y_perc_95\"], alpha=0.5)\n",
        "plt.plot(pre[\"x\"], pre[\"y\"], \"o\")\n",
        "\n",
        "plt.xlabel('x') \n",
        "plt.ylabel('y')"
      ],
      "metadata": {
        "colab": {
          "base_uri": "https://localhost:8080/",
          "height": 326
        },
        "id": "JRzNUsWepKb_",
        "outputId": "7684757f-660e-4c18-c193-514f9ed5262b"
      },
      "execution_count": 9,
      "outputs": [
        {
          "output_type": "execute_result",
          "data": {
            "text/plain": [
              "Text(0, 0.5, 'y')"
            ]
          },
          "metadata": {},
          "execution_count": 9
        },
        {
          "output_type": "display_data",
          "data": {
            "text/plain": [
              "<Figure size 432x288 with 1 Axes>"
            ],
            "image/png": "[encoded data removed]"
          },
          "metadata": {
            "needs_background": "light"
          }
        }
      ]
    }
  ]
}