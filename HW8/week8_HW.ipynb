{
  "nbformat": 4,
  "nbformat_minor": 0,
  "metadata": {
    "colab": {
      "name": "week8_HW.ipynb",
      "provenance": [],
      "collapsed_sections": []
    },
    "kernelspec": {
      "name": "python3",
      "display_name": "Python 3"
    },
    "language_info": {
      "name": "python"
    },
    "accelerator": "GPU",
    "gpuClass": "standard"
  },
  "cells": [
    {
      "cell_type": "code",
      "source": [
        "!pip install bayesian-optimization"
      ],
      "metadata": {
        "colab": {
          "base_uri": "https://localhost:8080/"
        },
        "id": "hKCR-qjXeyqo",
        "outputId": "d4f830ed-6a22-462e-f3d8-1994fc5fc5fa"
      },
      "execution_count": 1,
      "outputs": [
        {
          "output_type": "stream",
          "name": "stdout",
          "text": [
            "Looking in indexes: https://pypi.org/simple, https://us-python.pkg.dev/colab-wheels/public/simple/\n",
            "Collecting bayesian-optimization\n",
            "  Downloading bayesian-optimization-1.2.0.tar.gz (14 kB)\n",
            "Requirement already satisfied: numpy>=1.9.0 in /usr/local/lib/python3.7/dist-packages (from bayesian-optimization) (1.21.6)\n",
            "Requirement already satisfied: scipy>=0.14.0 in /usr/local/lib/python3.7/dist-packages (from bayesian-optimization) (1.7.3)\n",
            "Requirement already satisfied: scikit-learn>=0.18.0 in /usr/local/lib/python3.7/dist-packages (from bayesian-optimization) (1.0.2)\n",
            "Requirement already satisfied: threadpoolctl>=2.0.0 in /usr/local/lib/python3.7/dist-packages (from scikit-learn>=0.18.0->bayesian-optimization) (3.1.0)\n",
            "Requirement already satisfied: joblib>=0.11 in /usr/local/lib/python3.7/dist-packages (from scikit-learn>=0.18.0->bayesian-optimization) (1.1.0)\n",
            "Building wheels for collected packages: bayesian-optimization\n",
            "  Building wheel for bayesian-optimization (setup.py) ... \u001b[?25l\u001b[?25hdone\n",
            "  Created wheel for bayesian-optimization: filename=bayesian_optimization-1.2.0-py3-none-any.whl size=11685 sha256=a0a919f862142e8c5ebeb1a20d2c4a674604ffc3a49a48dd4b9d24168e37bd5b\n",
            "  Stored in directory: /root/.cache/pip/wheels/fd/9b/71/f127d694e02eb40bcf18c7ae9613b88a6be4470f57a8528c5b\n",
            "Successfully built bayesian-optimization\n",
            "Installing collected packages: bayesian-optimization\n",
            "Successfully installed bayesian-optimization-1.2.0\n"
          ]
        }
      ]
    },
    {
      "cell_type": "code",
      "execution_count": 2,
      "metadata": {
        "id": "gVE9WBhvdcDI"
      },
      "outputs": [],
      "source": [
        "# import函式庫\n",
        "from sklearn import datasets, metrics, svm, tree, linear_model\n",
        "from sklearn.preprocessing import StandardScaler\n",
        "from sklearn.model_selection import train_test_split\n",
        "from sklearn.model_selection import cross_val_score\n",
        "import pandas as pd\n",
        "import matplotlib.pyplot as plt\n",
        "from bayes_opt import BayesianOptimization"
      ]
    },
    {
      "cell_type": "code",
      "source": [
        "# 讀入iris資料集\n",
        "iris = datasets.load_iris()\n",
        "# 定義feature及label\n",
        "iris_data = iris.data\n",
        "iris_label = iris.target\n",
        "\n",
        "# 顯示iris的內容\n",
        "print(pd.DataFrame(data=iris['data'], columns=iris['feature_names']))"
      ],
      "metadata": {
        "colab": {
          "base_uri": "https://localhost:8080/"
        },
        "id": "s7Wh116mdsbz",
        "outputId": "18a88cf0-7f5f-4f13-b753-78489e55c9b2"
      },
      "execution_count": 3,
      "outputs": [
        {
          "output_type": "stream",
          "name": "stdout",
          "text": [
            "     sepal length (cm)  sepal width (cm)  petal length (cm)  petal width (cm)\n",
            "0                  5.1               3.5                1.4               0.2\n",
            "1                  4.9               3.0                1.4               0.2\n",
            "2                  4.7               3.2                1.3               0.2\n",
            "3                  4.6               3.1                1.5               0.2\n",
            "4                  5.0               3.6                1.4               0.2\n",
            "..                 ...               ...                ...               ...\n",
            "145                6.7               3.0                5.2               2.3\n",
            "146                6.3               2.5                5.0               1.9\n",
            "147                6.5               3.0                5.2               2.0\n",
            "148                6.2               3.4                5.4               2.3\n",
            "149                5.9               3.0                5.1               1.8\n",
            "\n",
            "[150 rows x 4 columns]\n"
          ]
        }
      ]
    },
    {
      "cell_type": "code",
      "source": [
        "# 將資料分成training及testing，比例為8:2，並亂序\n",
        "train_data, test_data, train_label, test_label = train_test_split(iris_data, iris_label, test_size=0.2, shuffle=True)"
      ],
      "metadata": {
        "id": "EMPjxD-mdt0O"
      },
      "execution_count": 4,
      "outputs": []
    },
    {
      "cell_type": "code",
      "source": [
        "# 前處理，將所有特徵標準化，能夠有效地讓模型快速收斂\n",
        "# 使平均值為0，標準差為1\n",
        "scaler = StandardScaler()\n",
        "scaler.fit(train_data)\n",
        "train_data = scaler.transform(train_data)\n",
        "test_data = scaler.transform(test_data)"
      ],
      "metadata": {
        "id": "1g9NOONudvzv"
      },
      "execution_count": 5,
      "outputs": []
    },
    {
      "cell_type": "code",
      "source": [
        "def svc_cv(C, gamma, data, targets):\n",
        "  classifier = svm.SVC(C=C, kernel='rbf', gamma=gamma)\n",
        "  cval = cross_val_score(classifier, data, targets, scoring='accuracy', cv=15)\n",
        "  return cval.mean()"
      ],
      "metadata": {
        "id": "47GIdgT8mySx"
      },
      "execution_count": 6,
      "outputs": []
    },
    {
      "cell_type": "code",
      "source": [
        "def svc_crossval(expC, expGamma):\n",
        "  C = 10 ** expC\n",
        "  gamma = 10 ** expGamma\n",
        "  return svc_cv(C=C, gamma=gamma, data=train_data, targets=train_label)"
      ],
      "metadata": {
        "id": "vYDEL1KcmiYe"
      },
      "execution_count": 7,
      "outputs": []
    },
    {
      "cell_type": "code",
      "source": [
        "optimizer = BayesianOptimization(f = svc_crossval,\n",
        "                  pbounds = {\"expC\": (-3, 5), \"expGamma\": (0, 5)})\n",
        "optimizer.maximize(n_iter=10)\n",
        "\n",
        "print(\"Final result:\", optimizer.max)\n",
        "params = optimizer.max[\"params\"]\n",
        "C = params['expC']\n",
        "gamma = params[\"expGamma\"]"
      ],
      "metadata": {
        "colab": {
          "base_uri": "https://localhost:8080/"
        },
        "id": "1u_VFfVSlO2X",
        "outputId": "d198efb4-3aa1-4b09-b03d-9155a0793a18"
      },
      "execution_count": 8,
      "outputs": [
        {
          "output_type": "stream",
          "name": "stdout",
          "text": [
            "|   iter    |  target   |   expC    | expGamma  |\n",
            "-------------------------------------------------\n",
            "| \u001b[0m 1       \u001b[0m | \u001b[0m 0.3333  \u001b[0m | \u001b[0m 2.432   \u001b[0m | \u001b[0m 4.464   \u001b[0m |\n",
            "| \u001b[95m 2       \u001b[0m | \u001b[95m 0.9417  \u001b[0m | \u001b[95m-0.6817  \u001b[0m | \u001b[95m 0.001068\u001b[0m |\n",
            "| \u001b[95m 3       \u001b[0m | \u001b[95m 0.95    \u001b[0m | \u001b[95m 4.653   \u001b[0m | \u001b[95m 0.3336  \u001b[0m |\n",
            "| \u001b[0m 4       \u001b[0m | \u001b[0m 0.3833  \u001b[0m | \u001b[0m-2.313   \u001b[0m | \u001b[0m 1.002   \u001b[0m |\n",
            "| \u001b[0m 5       \u001b[0m | \u001b[0m 0.3083  \u001b[0m | \u001b[0m-0.4868  \u001b[0m | \u001b[0m 4.463   \u001b[0m |\n",
            "| \u001b[0m 6       \u001b[0m | \u001b[0m 0.3     \u001b[0m | \u001b[0m 2.543   \u001b[0m | \u001b[0m 2.654   \u001b[0m |\n",
            "| \u001b[0m 7       \u001b[0m | \u001b[0m 0.9333  \u001b[0m | \u001b[0m 4.163   \u001b[0m | \u001b[0m 0.05388 \u001b[0m |\n",
            "| \u001b[0m 8       \u001b[0m | \u001b[0m 0.9333  \u001b[0m | \u001b[0m 1.056   \u001b[0m | \u001b[0m 0.0     \u001b[0m |\n",
            "| \u001b[0m 9       \u001b[0m | \u001b[0m 0.3083  \u001b[0m | \u001b[0m 5.0     \u001b[0m | \u001b[0m 5.0     \u001b[0m |\n",
            "| \u001b[0m 10      \u001b[0m | \u001b[0m 0.9167  \u001b[0m | \u001b[0m 0.1282  \u001b[0m | \u001b[0m 0.8468  \u001b[0m |\n",
            "| \u001b[0m 11      \u001b[0m | \u001b[0m 0.9333  \u001b[0m | \u001b[0m 5.0     \u001b[0m | \u001b[0m 0.0     \u001b[0m |\n",
            "| \u001b[0m 12      \u001b[0m | \u001b[0m 0.95    \u001b[0m | \u001b[0m 0.1542  \u001b[0m | \u001b[0m 0.0     \u001b[0m |\n",
            "| \u001b[0m 13      \u001b[0m | \u001b[0m 0.9333  \u001b[0m | \u001b[0m 2.571   \u001b[0m | \u001b[0m 0.0     \u001b[0m |\n",
            "| \u001b[0m 14      \u001b[0m | \u001b[0m 0.7     \u001b[0m | \u001b[0m 5.0     \u001b[0m | \u001b[0m 1.638   \u001b[0m |\n",
            "| \u001b[0m 15      \u001b[0m | \u001b[0m 0.3083  \u001b[0m | \u001b[0m-3.0     \u001b[0m | \u001b[0m 5.0     \u001b[0m |\n",
            "=================================================\n",
            "Final result: {'target': 0.95, 'params': {'expC': 4.6532915993701645, 'expGamma': 0.33359675113055653}}\n"
          ]
        }
      ]
    },
    {
      "cell_type": "code",
      "source": [
        "# 使用SVM演算法\n",
        "classifier = svm.SVC(C=C, kernel='rbf', gamma=gamma)\n",
        "classifier.fit(train_data, train_label)"
      ],
      "metadata": {
        "colab": {
          "base_uri": "https://localhost:8080/"
        },
        "id": "8s7KxGeidxLI",
        "outputId": "bc8bc28f-5ff4-4b9e-9f2c-19f521f0e4f3"
      },
      "execution_count": 9,
      "outputs": [
        {
          "output_type": "execute_result",
          "data": {
            "text/plain": [
              "SVC(C=4.6532915993701645, gamma=0.33359675113055653)"
            ]
          },
          "metadata": {},
          "execution_count": 9
        }
      ]
    },
    {
      "cell_type": "code",
      "source": [
        "# 輸出預測結果及正確結果\n",
        "predicted = classifier.predict(test_data)\n",
        "print('predicted:', predicted)\n",
        "print('true:     ', test_label)"
      ],
      "metadata": {
        "colab": {
          "base_uri": "https://localhost:8080/"
        },
        "id": "2u9gCTOtdzwO",
        "outputId": "013375c9-2c9e-47e6-c37a-9dd552044446"
      },
      "execution_count": 10,
      "outputs": [
        {
          "output_type": "stream",
          "name": "stdout",
          "text": [
            "predicted: [1 0 2 0 0 2 1 0 2 0 2 1 1 1 2 0 1 0 1 1 2 1 1 1 1 0 2 2 0 0]\n",
            "true:      [1 0 2 0 0 2 1 0 2 0 2 1 2 1 2 0 1 0 1 1 2 1 1 1 1 0 2 2 0 0]\n"
          ]
        }
      ]
    },
    {
      "cell_type": "code",
      "source": [
        "# 顯示混淆矩陣\n",
        "disp = metrics.ConfusionMatrixDisplay.from_predictions(test_label, predicted)\n",
        "disp.figure_.suptitle(\"Confusion Matrix\")\n",
        "plt.show()"
      ],
      "metadata": {
        "colab": {
          "base_uri": "https://localhost:8080/",
          "height": 308
        },
        "id": "67SZoAGxdz4S",
        "outputId": "6587d139-ca4f-4b41-af87-a94f19e7c53f"
      },
      "execution_count": 11,
      "outputs": [
        {
          "output_type": "display_data",
          "data": {
            "text/plain": [
              "<Figure size 432x288 with 2 Axes>"
            ],
            "image/png": "[encoded data removed]"
          },
          "metadata": {
            "needs_background": "light"
          }
        }
      ]
    },
    {
      "cell_type": "code",
      "source": [
        "# 顯示結果報表\n",
        "# precision = TP/(TP+FP)\n",
        "# recall = TP/(TP+FN)\n",
        "# f1-score= 2 * precision * recall/(recision + recall)，為precision和recall的harmonic mean調和平均數\n",
        "# support為實際手寫數字的總數\n",
        "print(f\"Classification report for classifier {classifier}:\\n\"\n",
        "   f\"{metrics.classification_report(test_label, predicted)}\\n\"  )"
      ],
      "metadata": {
        "colab": {
          "base_uri": "https://localhost:8080/"
        },
        "id": "xERw3g-Cd2o0",
        "outputId": "65db6df8-45fc-4c2d-908b-0bf975d6c1b6"
      },
      "execution_count": 12,
      "outputs": [
        {
          "output_type": "stream",
          "name": "stdout",
          "text": [
            "Classification report for classifier SVC(C=4.6532915993701645, gamma=0.33359675113055653):\n",
            "              precision    recall  f1-score   support\n",
            "\n",
            "           0       1.00      1.00      1.00        10\n",
            "           1       0.92      1.00      0.96        11\n",
            "           2       1.00      0.89      0.94         9\n",
            "\n",
            "    accuracy                           0.97        30\n",
            "   macro avg       0.97      0.96      0.97        30\n",
            "weighted avg       0.97      0.97      0.97        30\n",
            "\n",
            "\n"
          ]
        }
      ]
    }
  ]
}