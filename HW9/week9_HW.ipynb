{
  "nbformat": 4,
  "nbformat_minor": 0,
  "metadata": {
    "colab": {
      "name": "week9_HW.ipynb",
      "provenance": []
    },
    "kernelspec": {
      "name": "python3",
      "display_name": "Python 3"
    },
    "language_info": {
      "name": "python"
    }
  },
  "cells": [
    {
      "cell_type": "code",
      "execution_count": 1,
      "metadata": {
        "colab": {
          "base_uri": "https://localhost:8080/"
        },
        "id": "3yNlyYrOd4xX",
        "outputId": "57808884-a610-4937-8983-4b8accad102c"
      },
      "outputs": [
        {
          "output_type": "stream",
          "name": "stdout",
          "text": [
            "Looking in indexes: https://pypi.org/simple, https://us-python.pkg.dev/colab-wheels/public/simple/\n",
            "Collecting pyod\n",
            "  Downloading pyod-1.0.4.tar.gz (134 kB)\n",
            "\u001b[K     |████████████████████████████████| 134 kB 22.8 MB/s \n",
            "\u001b[?25hRequirement already satisfied: joblib in /usr/local/lib/python3.7/dist-packages (from pyod) (1.1.0)\n",
            "Requirement already satisfied: matplotlib in /usr/local/lib/python3.7/dist-packages (from pyod) (3.2.2)\n",
            "Requirement already satisfied: numpy>=1.19 in /usr/local/lib/python3.7/dist-packages (from pyod) (1.21.6)\n",
            "Requirement already satisfied: numba>=0.51 in /usr/local/lib/python3.7/dist-packages (from pyod) (0.56.0)\n",
            "Requirement already satisfied: scipy>=1.5.1 in /usr/local/lib/python3.7/dist-packages (from pyod) (1.7.3)\n",
            "Requirement already satisfied: scikit_learn>=0.20.0 in /usr/local/lib/python3.7/dist-packages (from pyod) (1.0.2)\n",
            "Requirement already satisfied: six in /usr/local/lib/python3.7/dist-packages (from pyod) (1.15.0)\n",
            "Requirement already satisfied: statsmodels in /usr/local/lib/python3.7/dist-packages (from pyod) (0.12.2)\n",
            "Requirement already satisfied: setuptools in /usr/local/lib/python3.7/dist-packages (from numba>=0.51->pyod) (57.4.0)\n",
            "Requirement already satisfied: llvmlite<0.40,>=0.39.0dev0 in /usr/local/lib/python3.7/dist-packages (from numba>=0.51->pyod) (0.39.0)\n",
            "Requirement already satisfied: importlib-metadata in /usr/local/lib/python3.7/dist-packages (from numba>=0.51->pyod) (4.12.0)\n",
            "Requirement already satisfied: threadpoolctl>=2.0.0 in /usr/local/lib/python3.7/dist-packages (from scikit_learn>=0.20.0->pyod) (3.1.0)\n",
            "Requirement already satisfied: zipp>=0.5 in /usr/local/lib/python3.7/dist-packages (from importlib-metadata->numba>=0.51->pyod) (3.8.1)\n",
            "Requirement already satisfied: typing-extensions>=3.6.4 in /usr/local/lib/python3.7/dist-packages (from importlib-metadata->numba>=0.51->pyod) (4.1.1)\n",
            "Requirement already satisfied: cycler>=0.10 in /usr/local/lib/python3.7/dist-packages (from matplotlib->pyod) (0.11.0)\n",
            "Requirement already satisfied: kiwisolver>=1.0.1 in /usr/local/lib/python3.7/dist-packages (from matplotlib->pyod) (1.4.4)\n",
            "Requirement already satisfied: python-dateutil>=2.1 in /usr/local/lib/python3.7/dist-packages (from matplotlib->pyod) (2.8.2)\n",
            "Requirement already satisfied: pyparsing!=2.0.4,!=2.1.2,!=2.1.6,>=2.0.1 in /usr/local/lib/python3.7/dist-packages (from matplotlib->pyod) (3.0.9)\n",
            "Requirement already satisfied: pandas>=0.21 in /usr/local/lib/python3.7/dist-packages (from statsmodels->pyod) (1.3.5)\n",
            "Requirement already satisfied: patsy>=0.5 in /usr/local/lib/python3.7/dist-packages (from statsmodels->pyod) (0.5.2)\n",
            "Requirement already satisfied: pytz>=2017.3 in /usr/local/lib/python3.7/dist-packages (from pandas>=0.21->statsmodels->pyod) (2022.2.1)\n",
            "Building wheels for collected packages: pyod\n",
            "  Building wheel for pyod (setup.py) ... \u001b[?25l\u001b[?25hdone\n",
            "  Created wheel for pyod: filename=pyod-1.0.4-py3-none-any.whl size=165073 sha256=e412dedbb320b90c4adefa0dbc000063995da42b74a24e86674047890c9cf926\n",
            "  Stored in directory: /root/.cache/pip/wheels/3d/48/a8/87d61660791c7e6b0f5c3068da7fb17ade7fdc041e864fe053\n",
            "Successfully built pyod\n",
            "Installing collected packages: pyod\n",
            "Successfully installed pyod-1.0.4\n"
          ]
        }
      ],
      "source": [
        "!pip install pyod"
      ]
    },
    {
      "cell_type": "code",
      "source": [
        "from pyod.models.knn import KNN\n",
        "from pyod.models.lof import LOF\n",
        "from pyod.models.abod import ABOD\n",
        "from pyod.models.iforest import IForest\n",
        "from pyod.models.hbos import HBOS\n",
        "from pyod.models.cblof import CBLOF\n",
        "from pyod.utils.data import evaluate_print\n",
        "import pandas as pd\n",
        "from sklearn.model_selection import train_test_split"
      ],
      "metadata": {
        "id": "PKAyHc3fd9g3"
      },
      "execution_count": 2,
      "outputs": []
    },
    {
      "cell_type": "code",
      "source": [
        "from google.colab import drive\n",
        "drive.mount('/content/gdrive')\n",
        "dataset = pd.read_csv('/content/gdrive/MyDrive/Colab Notebooks/HW9/ionosphere_data_kaggle.csv')"
      ],
      "metadata": {
        "colab": {
          "base_uri": "https://localhost:8080/"
        },
        "id": "LFzoOE40hdTs",
        "outputId": "5021c16d-f897-453d-dc0c-7efbf88db37a"
      },
      "execution_count": 3,
      "outputs": [
        {
          "output_type": "stream",
          "name": "stdout",
          "text": [
            "Mounted at /content/gdrive\n"
          ]
        }
      ]
    },
    {
      "cell_type": "code",
      "source": [
        "dataset['label'].replace('b', 1, inplace = True)\n",
        "dataset['label'].replace('g', 0, inplace = True)\n",
        "ionosphere_data = dataset[['feature1', 'feature2', 'feature3', 'feature4', 'feature5', 'feature6',\n",
        "              'feature7', 'feature8', 'feature9', 'feature10', 'feature11',\n",
        "              'feature12', 'feature13', 'feature14', 'feature15', 'feature16',\n",
        "              'feature17', 'feature18', 'feature19', 'feature20', 'feature21',\n",
        "              'feature22', 'feature23', 'feature24', 'feature25', 'feature26',\n",
        "              'feature27', 'feature28', 'feature29', 'feature30', 'feature31',\n",
        "              'feature32', 'feature33', 'feature34']]\n",
        "ionosphere_label = dataset['label']"
      ],
      "metadata": {
        "id": "tdcKcpCOqXn2"
      },
      "execution_count": 4,
      "outputs": []
    },
    {
      "cell_type": "code",
      "source": [
        "X_train, X_test, y_train, y_test = train_test_split(ionosphere_data,ionosphere_label, test_size=0.2, shuffle=True)"
      ],
      "metadata": {
        "id": "l-szfnCTp6ii"
      },
      "execution_count": 5,
      "outputs": []
    },
    {
      "cell_type": "code",
      "source": [
        "clf_name = 'KNN'\n",
        "clf = KNN()\n",
        "\n",
        "clf.fit(X_train)\n",
        "\n",
        "y_train_pred = clf.labels_  \n",
        "y_train_scores = clf.decision_scores_  \n",
        "\n",
        "y_test_pred = clf.predict(X_test)  \n",
        "y_test_scores = clf.decision_function(X_test)\n",
        "\n",
        "print(\"On Training Data:\")\n",
        "evaluate_print(clf_name, y_train, y_train_scores)\n",
        "print(\"\\nOn Test Data:\")\n",
        "evaluate_print(clf_name, y_test, y_test_scores)"
      ],
      "metadata": {
        "colab": {
          "base_uri": "https://localhost:8080/"
        },
        "id": "B82IQvSUrTD9",
        "outputId": "ae8ffdfa-37b8-4fd4-8c53-2c6da0528ffa"
      },
      "execution_count": 6,
      "outputs": [
        {
          "output_type": "stream",
          "name": "stdout",
          "text": [
            "On Training Data:\n",
            "KNN ROC:0.9232, precision @ rank n:0.8571\n",
            "\n",
            "On Test Data:\n",
            "KNN ROC:0.9618, precision @ rank n:0.9286\n"
          ]
        }
      ]
    },
    {
      "cell_type": "code",
      "source": [
        "clf_name = 'LOF'\n",
        "clf = LOF()\n",
        "\n",
        "clf.fit(X_train)\n",
        "\n",
        "y_train_pred = clf.labels_  \n",
        "y_train_scores = clf.decision_scores_  \n",
        "\n",
        "y_test_pred = clf.predict(X_test)  \n",
        "y_test_scores = clf.decision_function(X_test)\n",
        "\n",
        "print(\"On Training Data:\")\n",
        "evaluate_print(clf_name, y_train, y_train_scores)\n",
        "print(\"\\nOn Test Data:\")\n",
        "evaluate_print(clf_name, y_test, y_test_scores)"
      ],
      "metadata": {
        "colab": {
          "base_uri": "https://localhost:8080/"
        },
        "id": "20hBO3vDvTfv",
        "outputId": "6aad8a3b-1878-4d47-932e-a702169511c2"
      },
      "execution_count": 7,
      "outputs": [
        {
          "output_type": "stream",
          "name": "stdout",
          "text": [
            "On Training Data:\n",
            "LOF ROC:0.8795, precision @ rank n:0.7449\n",
            "\n",
            "On Test Data:\n",
            "LOF ROC:0.8787, precision @ rank n:0.75\n"
          ]
        }
      ]
    },
    {
      "cell_type": "code",
      "source": [
        "clf_name = 'ABOD'\n",
        "clf = ABOD()\n",
        "\n",
        "clf.fit(X_train)\n",
        "\n",
        "y_train_pred = clf.labels_  \n",
        "y_train_scores = clf.decision_scores_  \n",
        "\n",
        "y_test_pred = clf.predict(X_test)  \n",
        "y_test_scores = clf.decision_function(X_test)\n",
        "\n",
        "print(\"On Training Data:\")\n",
        "evaluate_print(clf_name, y_train, y_train_scores)\n",
        "print(\"\\nOn Test Data:\")\n",
        "evaluate_print(clf_name, y_test, y_test_scores)"
      ],
      "metadata": {
        "colab": {
          "base_uri": "https://localhost:8080/"
        },
        "id": "bQESXP4CsdvZ",
        "outputId": "cf56d475-e07e-48ff-c6f3-e43f621cd937"
      },
      "execution_count": 8,
      "outputs": [
        {
          "output_type": "stream",
          "name": "stdout",
          "text": [
            "On Training Data:\n",
            "ABOD ROC:0.9153, precision @ rank n:0.8265\n",
            "\n",
            "On Test Data:\n",
            "ABOD ROC:0.9535, precision @ rank n:0.8571\n"
          ]
        }
      ]
    },
    {
      "cell_type": "code",
      "source": [
        "clf_name = 'IForest'\n",
        "clf = IForest()\n",
        "\n",
        "clf.fit(X_train)\n",
        "\n",
        "y_train_pred = clf.labels_  \n",
        "y_train_scores = clf.decision_scores_  \n",
        "\n",
        "y_test_pred = clf.predict(X_test)  \n",
        "y_test_scores = clf.decision_function(X_test)\n",
        "\n",
        "print(\"On Training Data:\")\n",
        "evaluate_print(clf_name, y_train, y_train_scores)\n",
        "print(\"\\nOn Test Data:\")\n",
        "evaluate_print(clf_name, y_test, y_test_scores)"
      ],
      "metadata": {
        "colab": {
          "base_uri": "https://localhost:8080/"
        },
        "id": "bgtk8B7Nx-Eo",
        "outputId": "4967f42b-6456-4c65-f839-98619bfa01ce"
      },
      "execution_count": 9,
      "outputs": [
        {
          "output_type": "stream",
          "name": "stdout",
          "text": [
            "On Training Data:\n",
            "IForest ROC:0.849, precision @ rank n:0.6633\n",
            "\n",
            "On Test Data:\n",
            "IForest ROC:0.8862, precision @ rank n:0.6786\n"
          ]
        },
        {
          "output_type": "stream",
          "name": "stderr",
          "text": [
            "/usr/local/lib/python3.7/dist-packages/sklearn/base.py:444: UserWarning: X has feature names, but IsolationForest was fitted without feature names\n",
            "  f\"X has feature names, but {self.__class__.__name__} was fitted without\"\n",
            "/usr/local/lib/python3.7/dist-packages/sklearn/base.py:444: UserWarning: X has feature names, but IsolationForest was fitted without feature names\n",
            "  f\"X has feature names, but {self.__class__.__name__} was fitted without\"\n"
          ]
        }
      ]
    },
    {
      "cell_type": "code",
      "source": [
        "clf_name = 'HBOS'\n",
        "clf = HBOS()\n",
        "\n",
        "clf.fit(X_train)\n",
        "\n",
        "y_train_pred = clf.labels_  \n",
        "y_train_scores = clf.decision_scores_  \n",
        "\n",
        "y_test_pred = clf.predict(X_test)  \n",
        "y_test_scores = clf.decision_function(X_test)\n",
        "\n",
        "print(\"On Training Data:\")\n",
        "evaluate_print(clf_name, y_train, y_train_scores)\n",
        "print(\"\\nOn Test Data:\")\n",
        "evaluate_print(clf_name, y_test, y_test_scores)"
      ],
      "metadata": {
        "colab": {
          "base_uri": "https://localhost:8080/"
        },
        "id": "6ItspejGx-ci",
        "outputId": "04ff52e2-fcb4-48af-cc3b-fefc3a283750"
      },
      "execution_count": 10,
      "outputs": [
        {
          "output_type": "stream",
          "name": "stdout",
          "text": [
            "On Training Data:\n",
            "HBOS ROC:0.6572, precision @ rank n:0.4592\n",
            "\n",
            "On Test Data:\n",
            "HBOS ROC:0.7359, precision @ rank n:0.6429\n"
          ]
        }
      ]
    },
    {
      "cell_type": "code",
      "source": [
        "clf_name = 'CBLOF'\n",
        "clf = CBLOF()\n",
        "\n",
        "clf.fit(X_train)\n",
        "\n",
        "y_train_pred = clf.labels_  \n",
        "y_train_scores = clf.decision_scores_  \n",
        "\n",
        "y_test_pred = clf.predict(X_test)  \n",
        "y_test_scores = clf.decision_function(X_test)\n",
        "\n",
        "print(\"On Training Data:\")\n",
        "evaluate_print(clf_name, y_train, y_train_scores)\n",
        "print(\"\\nOn Test Data:\")\n",
        "evaluate_print(clf_name, y_test, y_test_scores)"
      ],
      "metadata": {
        "colab": {
          "base_uri": "https://localhost:8080/"
        },
        "id": "T7Ir3JD0x-qG",
        "outputId": "63c6c305-45af-4944-cb35-e4f734d166f9"
      },
      "execution_count": 11,
      "outputs": [
        {
          "output_type": "stream",
          "name": "stdout",
          "text": [
            "On Training Data:\n",
            "CBLOF ROC:0.8944, precision @ rank n:0.8265\n",
            "\n",
            "On Test Data:\n",
            "CBLOF ROC:0.9244, precision @ rank n:0.8929\n"
          ]
        }
      ]
    }
  ]
}