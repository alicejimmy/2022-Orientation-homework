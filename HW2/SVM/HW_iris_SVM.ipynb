{
  "nbformat": 4,
  "nbformat_minor": 0,
  "metadata": {
    "colab": {
      "name": "HW_iris_SVM.ipynb",
      "provenance": [],
      "collapsed_sections": []
    },
    "kernelspec": {
      "name": "python3",
      "display_name": "Python 3"
    },
    "language_info": {
      "name": "python"
    }
  },
  "cells": [
    {
      "cell_type": "code",
      "execution_count": 9,
      "metadata": {
        "id": "vx_yUUukijlO"
      },
      "outputs": [],
      "source": [
        "#參考資料 https://ithelp.ithome.com.tw/articles/10197110\n",
        "# import函式庫\n",
        "from sklearn import datasets, metrics, svm, tree, linear_model\n",
        "from sklearn.preprocessing import StandardScaler\n",
        "from sklearn.model_selection import train_test_split\n",
        "from sklearn.neighbors import KNeighborsClassifier\n",
        "import pandas as pd\n",
        "import matplotlib.pyplot as plt"
      ]
    },
    {
      "cell_type": "code",
      "source": [
        "# 讀入iris資料集\n",
        "iris = datasets.load_iris()\n",
        "# 定義feature及label\n",
        "iris_data = iris.data\n",
        "iris_label = iris.target\n",
        "\n",
        "# 顯示iris的內容\n",
        "print(pd.DataFrame(data=iris['data'], columns=iris['feature_names']))"
      ],
      "metadata": {
        "colab": {
          "base_uri": "https://localhost:8080/"
        },
        "id": "AxNyurU-jma8",
        "outputId": "d6d3e687-4f36-4f3e-bb65-a9b785117269"
      },
      "execution_count": 10,
      "outputs": [
        {
          "output_type": "stream",
          "name": "stdout",
          "text": [
            "     sepal length (cm)  sepal width (cm)  petal length (cm)  petal width (cm)\n",
            "0                  5.1               3.5                1.4               0.2\n",
            "1                  4.9               3.0                1.4               0.2\n",
            "2                  4.7               3.2                1.3               0.2\n",
            "3                  4.6               3.1                1.5               0.2\n",
            "4                  5.0               3.6                1.4               0.2\n",
            "..                 ...               ...                ...               ...\n",
            "145                6.7               3.0                5.2               2.3\n",
            "146                6.3               2.5                5.0               1.9\n",
            "147                6.5               3.0                5.2               2.0\n",
            "148                6.2               3.4                5.4               2.3\n",
            "149                5.9               3.0                5.1               1.8\n",
            "\n",
            "[150 rows x 4 columns]\n"
          ]
        }
      ]
    },
    {
      "cell_type": "code",
      "source": [
        "# 將資料分成training及testing，比例為8:2，並亂序\n",
        "train_data, test_data, train_label, test_label = train_test_split(iris_data,iris_label, test_size=0.2, shuffle=True)"
      ],
      "metadata": {
        "id": "C8eflYCmjwNE"
      },
      "execution_count": 292,
      "outputs": []
    },
    {
      "cell_type": "code",
      "source": [
        "# 前處理，將所有特徵標準化，能夠有效地讓模型快速收斂\n",
        "# 使平均值為0，標準差為1\n",
        "scaler = StandardScaler()\n",
        "scaler.fit(train_data)\n",
        "train_data = scaler.transform(train_data)\n",
        "test_data = scaler.transform(test_data)"
      ],
      "metadata": {
        "id": "JbbWrH4gdloV"
      },
      "execution_count": 293,
      "outputs": []
    },
    {
      "cell_type": "markdown",
      "source": [
        "*以下為C = 1.0, kernel='rbf'時的輸出結果*"
      ],
      "metadata": {
        "id": "fPF5Rd0L2Wog"
      }
    },
    {
      "cell_type": "code",
      "source": [
        "# 使用SVM演算法\n",
        "classifier = svm.SVC(C=1.0, kernel='rbf')\n",
        "classifier.fit(train_data, train_label)"
      ],
      "metadata": {
        "id": "jKwc-nItifX3",
        "colab": {
          "base_uri": "https://localhost:8080/"
        },
        "outputId": "9633f1fb-ddad-4973-93bf-6ed373063a99"
      },
      "execution_count": 294,
      "outputs": [
        {
          "output_type": "execute_result",
          "data": {
            "text/plain": [
              "SVC()"
            ]
          },
          "metadata": {},
          "execution_count": 294
        }
      ]
    },
    {
      "cell_type": "code",
      "source": [
        "# 輸出預測結果及正確結果\n",
        "predicted = classifier.predict(test_data)\n",
        "print('predicted:', predicted)\n",
        "print('true:     ', test_label)"
      ],
      "metadata": {
        "colab": {
          "base_uri": "https://localhost:8080/"
        },
        "id": "yxO8Omrgjzre",
        "outputId": "22eca5ca-9a78-4a8f-dcc5-933282f963c4"
      },
      "execution_count": 295,
      "outputs": [
        {
          "output_type": "stream",
          "name": "stdout",
          "text": [
            "predicted: [2 0 1 0 1 2 1 2 1 0 0 1 1 0 2 1 1 0 0 1 2 2 2 0 2 1 2 1 2 1]\n",
            "true:      [1 0 1 0 1 2 1 2 1 0 0 1 1 0 2 1 1 0 0 1 2 2 2 0 2 1 1 1 2 1]\n"
          ]
        }
      ]
    },
    {
      "cell_type": "code",
      "source": [
        "# 顯示混淆矩陣\n",
        "disp = metrics.ConfusionMatrixDisplay.from_predictions(test_label, predicted)\n",
        "disp.figure_.suptitle(\"Confusion Matrix\")\n",
        "plt.show()"
      ],
      "metadata": {
        "colab": {
          "base_uri": "https://localhost:8080/",
          "height": 308
        },
        "id": "rgIgQ4dUtZww",
        "outputId": "8f5cfee7-72aa-4ae0-92bd-40ff91af57df"
      },
      "execution_count": 296,
      "outputs": [
        {
          "output_type": "display_data",
          "data": {
            "text/plain": [
              "<Figure size 432x288 with 2 Axes>"
            ],
            "image/png": "[encoded data removed]"
          },
          "metadata": {
            "needs_background": "light"
          }
        }
      ]
    },
    {
      "cell_type": "code",
      "source": [
        "# 顯示結果報表\n",
        "# precision = TP/(TP+FP)\n",
        "# recall = TP/(TP+FN)\n",
        "# f1-score= 2 * precision * recall/(recision + recall)，為precision和recall的harmonic mean調和平均數\n",
        "# support為實際手寫數字的總數\n",
        "print(f\"Classification report for classifier {classifier}:\\n\"\n",
        "   f\"{metrics.classification_report(test_label, predicted)}\\n\"  )"
      ],
      "metadata": {
        "colab": {
          "base_uri": "https://localhost:8080/"
        },
        "id": "a6x26m98vZZA",
        "outputId": "b9494084-d968-4d11-ce6e-b195f787283e"
      },
      "execution_count": 297,
      "outputs": [
        {
          "output_type": "stream",
          "name": "stdout",
          "text": [
            "Classification report for classifier SVC():\n",
            "              precision    recall  f1-score   support\n",
            "\n",
            "           0       1.00      1.00      1.00         8\n",
            "           1       1.00      0.86      0.92        14\n",
            "           2       0.80      1.00      0.89         8\n",
            "\n",
            "    accuracy                           0.93        30\n",
            "   macro avg       0.93      0.95      0.94        30\n",
            "weighted avg       0.95      0.93      0.93        30\n",
            "\n",
            "\n"
          ]
        }
      ]
    },
    {
      "cell_type": "markdown",
      "source": [
        "*以下為C = 1.0, kernel='linear'時的輸出結果*"
      ],
      "metadata": {
        "id": "V1KgRr1P22BN"
      }
    },
    {
      "cell_type": "code",
      "source": [
        "# 使用SVM演算法\n",
        "classifier = svm.SVC(C=1.0, kernel='linear')\n",
        "classifier.fit(train_data, train_label)"
      ],
      "metadata": {
        "colab": {
          "base_uri": "https://localhost:8080/"
        },
        "outputId": "3c15415a-1a40-49fd-d4c2-260cc20fecad",
        "id": "OHQAZLxv22BT"
      },
      "execution_count": 298,
      "outputs": [
        {
          "output_type": "execute_result",
          "data": {
            "text/plain": [
              "SVC(kernel='linear')"
            ]
          },
          "metadata": {},
          "execution_count": 298
        }
      ]
    },
    {
      "cell_type": "code",
      "source": [
        "# 輸出預測結果及正確結果\n",
        "predicted = classifier.predict(test_data)\n",
        "print('predicted:', predicted)\n",
        "print('true:     ', test_label)"
      ],
      "metadata": {
        "colab": {
          "base_uri": "https://localhost:8080/"
        },
        "outputId": "e371d87a-dcbb-48d4-f179-da876ad81e58",
        "id": "Z5TnUROf22BT"
      },
      "execution_count": 299,
      "outputs": [
        {
          "output_type": "stream",
          "name": "stdout",
          "text": [
            "predicted: [2 0 1 0 1 2 1 2 1 0 0 1 1 0 2 1 1 0 0 1 2 2 2 0 2 1 2 1 2 1]\n",
            "true:      [1 0 1 0 1 2 1 2 1 0 0 1 1 0 2 1 1 0 0 1 2 2 2 0 2 1 1 1 2 1]\n"
          ]
        }
      ]
    },
    {
      "cell_type": "code",
      "source": [
        "# 顯示混淆矩陣\n",
        "disp = metrics.ConfusionMatrixDisplay.from_predictions(test_label, predicted)\n",
        "disp.figure_.suptitle(\"Confusion Matrix\")\n",
        "plt.show()"
      ],
      "metadata": {
        "colab": {
          "base_uri": "https://localhost:8080/",
          "height": 308
        },
        "outputId": "7e828af2-fc88-4d69-900c-85e67700c2b3",
        "id": "HZheUK-X22BU"
      },
      "execution_count": 300,
      "outputs": [
        {
          "output_type": "display_data",
          "data": {
            "text/plain": [
              "<Figure size 432x288 with 2 Axes>"
            ],
            "image/png": "[encoded data removed]"
          },
          "metadata": {
            "needs_background": "light"
          }
        }
      ]
    },
    {
      "cell_type": "code",
      "source": [
        "# 顯示結果報表\n",
        "# precision = TP/(TP+FP)\n",
        "# recall = TP/(TP+FN)\n",
        "# f1-score= 2 * precision * recall/(recision + recall)，為precision和recall的harmonic mean調和平均數\n",
        "# support為實際手寫數字的總數\n",
        "print(f\"Classification report for classifier {classifier}:\\n\"\n",
        "   f\"{metrics.classification_report(test_label, predicted)}\\n\"  )"
      ],
      "metadata": {
        "colab": {
          "base_uri": "https://localhost:8080/"
        },
        "outputId": "fafaf8f8-7c10-4efc-e920-5021e571ca5e",
        "id": "P78vH2I322BU"
      },
      "execution_count": 301,
      "outputs": [
        {
          "output_type": "stream",
          "name": "stdout",
          "text": [
            "Classification report for classifier SVC(kernel='linear'):\n",
            "              precision    recall  f1-score   support\n",
            "\n",
            "           0       1.00      1.00      1.00         8\n",
            "           1       1.00      0.86      0.92        14\n",
            "           2       0.80      1.00      0.89         8\n",
            "\n",
            "    accuracy                           0.93        30\n",
            "   macro avg       0.93      0.95      0.94        30\n",
            "weighted avg       0.95      0.93      0.93        30\n",
            "\n",
            "\n"
          ]
        }
      ]
    },
    {
      "cell_type": "markdown",
      "source": [
        "*以下為C = 1.0, kernel='poly'時的輸出結果*"
      ],
      "metadata": {
        "id": "_8Ufs7_33KZ-"
      }
    },
    {
      "cell_type": "code",
      "source": [
        "# 使用SVM演算法\n",
        "classifier = svm.SVC(C=1.0, kernel='poly')\n",
        "classifier.fit(train_data, train_label)"
      ],
      "metadata": {
        "colab": {
          "base_uri": "https://localhost:8080/"
        },
        "outputId": "f6883e35-7177-4220-f33e-a2f9918d74e2",
        "id": "Ecocuofq3KZ_"
      },
      "execution_count": 302,
      "outputs": [
        {
          "output_type": "execute_result",
          "data": {
            "text/plain": [
              "SVC(kernel='poly')"
            ]
          },
          "metadata": {},
          "execution_count": 302
        }
      ]
    },
    {
      "cell_type": "code",
      "source": [
        "# 輸出預測結果及正確結果\n",
        "predicted = classifier.predict(test_data)\n",
        "print('predicted:', predicted)\n",
        "print('true:     ', test_label)"
      ],
      "metadata": {
        "colab": {
          "base_uri": "https://localhost:8080/"
        },
        "outputId": "4a9c1c83-90d4-4d3e-f2ea-3e368e1c1056",
        "id": "SAlYEnpm3KaA"
      },
      "execution_count": 303,
      "outputs": [
        {
          "output_type": "stream",
          "name": "stdout",
          "text": [
            "predicted: [1 0 1 0 1 1 1 1 1 0 0 1 1 0 2 1 1 0 0 1 2 2 2 0 1 1 1 1 2 1]\n",
            "true:      [1 0 1 0 1 2 1 2 1 0 0 1 1 0 2 1 1 0 0 1 2 2 2 0 2 1 1 1 2 1]\n"
          ]
        }
      ]
    },
    {
      "cell_type": "code",
      "source": [
        "# 顯示混淆矩陣\n",
        "disp = metrics.ConfusionMatrixDisplay.from_predictions(test_label, predicted)\n",
        "disp.figure_.suptitle(\"Confusion Matrix\")\n",
        "plt.show()"
      ],
      "metadata": {
        "colab": {
          "base_uri": "https://localhost:8080/",
          "height": 308
        },
        "outputId": "97441bc4-b8b5-4369-d6bc-c9eb85ce83b8",
        "id": "mufCINUv3KaA"
      },
      "execution_count": 304,
      "outputs": [
        {
          "output_type": "display_data",
          "data": {
            "text/plain": [
              "<Figure size 432x288 with 2 Axes>"
            ],
            "image/png": "[encoded data removed]"
          },
          "metadata": {
            "needs_background": "light"
          }
        }
      ]
    },
    {
      "cell_type": "code",
      "source": [
        "# 顯示結果報表\n",
        "# precision = TP/(TP+FP)\n",
        "# recall = TP/(TP+FN)\n",
        "# f1-score= 2 * precision * recall/(recision + recall)，為precision和recall的harmonic mean調和平均數\n",
        "# support為實際手寫數字的總數\n",
        "print(f\"Classification report for classifier {classifier}:\\n\"\n",
        "   f\"{metrics.classification_report(test_label, predicted)}\\n\"  )"
      ],
      "metadata": {
        "colab": {
          "base_uri": "https://localhost:8080/"
        },
        "outputId": "73b5f9ad-8e33-4e67-8334-b756321b83db",
        "id": "DVHZZypj3KaA"
      },
      "execution_count": 305,
      "outputs": [
        {
          "output_type": "stream",
          "name": "stdout",
          "text": [
            "Classification report for classifier SVC(kernel='poly'):\n",
            "              precision    recall  f1-score   support\n",
            "\n",
            "           0       1.00      1.00      1.00         8\n",
            "           1       0.82      1.00      0.90        14\n",
            "           2       1.00      0.62      0.77         8\n",
            "\n",
            "    accuracy                           0.90        30\n",
            "   macro avg       0.94      0.88      0.89        30\n",
            "weighted avg       0.92      0.90      0.89        30\n",
            "\n",
            "\n"
          ]
        }
      ]
    },
    {
      "cell_type": "markdown",
      "source": [
        "*以下為C = 0.8, kernel='rbf'時的輸出結果*"
      ],
      "metadata": {
        "id": "ABjhrWCE3SX0"
      }
    },
    {
      "cell_type": "code",
      "source": [
        "# 使用SVM演算法\n",
        "classifier = svm.SVC(C=0.8, kernel='rbf')\n",
        "classifier.fit(train_data, train_label)"
      ],
      "metadata": {
        "colab": {
          "base_uri": "https://localhost:8080/"
        },
        "outputId": "ddcd5c79-2c43-4741-a1a0-b931de6b6d35",
        "id": "gtlWKNFn3SX0"
      },
      "execution_count": 306,
      "outputs": [
        {
          "output_type": "execute_result",
          "data": {
            "text/plain": [
              "SVC(C=0.8)"
            ]
          },
          "metadata": {},
          "execution_count": 306
        }
      ]
    },
    {
      "cell_type": "code",
      "source": [
        "# 輸出預測結果及正確結果\n",
        "predicted = classifier.predict(test_data)\n",
        "print('predicted:', predicted)\n",
        "print('true:     ', test_label)"
      ],
      "metadata": {
        "colab": {
          "base_uri": "https://localhost:8080/"
        },
        "outputId": "ad507f0a-7b89-46b8-c4da-6f7b79db7a84",
        "id": "GoIjbhc43SX1"
      },
      "execution_count": 307,
      "outputs": [
        {
          "output_type": "stream",
          "name": "stdout",
          "text": [
            "predicted: [2 0 1 0 1 2 1 2 1 0 0 1 1 0 2 1 1 0 0 1 2 2 2 0 2 1 2 1 2 1]\n",
            "true:      [1 0 1 0 1 2 1 2 1 0 0 1 1 0 2 1 1 0 0 1 2 2 2 0 2 1 1 1 2 1]\n"
          ]
        }
      ]
    },
    {
      "cell_type": "code",
      "source": [
        "# 顯示混淆矩陣\n",
        "disp = metrics.ConfusionMatrixDisplay.from_predictions(test_label, predicted)\n",
        "disp.figure_.suptitle(\"Confusion Matrix\")\n",
        "plt.show()"
      ],
      "metadata": {
        "colab": {
          "base_uri": "https://localhost:8080/",
          "height": 308
        },
        "outputId": "78a93624-35dc-44bb-cff6-13533d8fc270",
        "id": "j23eMdw33SX1"
      },
      "execution_count": 308,
      "outputs": [
        {
          "output_type": "display_data",
          "data": {
            "text/plain": [
              "<Figure size 432x288 with 2 Axes>"
            ],
            "image/png": "[encoded data removed]"
          },
          "metadata": {
            "needs_background": "light"
          }
        }
      ]
    },
    {
      "cell_type": "code",
      "source": [
        "# 顯示結果報表\n",
        "# precision = TP/(TP+FP)\n",
        "# recall = TP/(TP+FN)\n",
        "# f1-score= 2 * precision * recall/(recision + recall)，為precision和recall的harmonic mean調和平均數\n",
        "# support為實際手寫數字的總數\n",
        "print(f\"Classification report for classifier {classifier}:\\n\"\n",
        "   f\"{metrics.classification_report(test_label, predicted)}\\n\"  )"
      ],
      "metadata": {
        "colab": {
          "base_uri": "https://localhost:8080/"
        },
        "outputId": "b0700bc4-ab29-4b7d-e171-ad6600dae931",
        "id": "9R0DWlxq3SX1"
      },
      "execution_count": 309,
      "outputs": [
        {
          "output_type": "stream",
          "name": "stdout",
          "text": [
            "Classification report for classifier SVC(C=0.8):\n",
            "              precision    recall  f1-score   support\n",
            "\n",
            "           0       1.00      1.00      1.00         8\n",
            "           1       1.00      0.86      0.92        14\n",
            "           2       0.80      1.00      0.89         8\n",
            "\n",
            "    accuracy                           0.93        30\n",
            "   macro avg       0.93      0.95      0.94        30\n",
            "weighted avg       0.95      0.93      0.93        30\n",
            "\n",
            "\n"
          ]
        }
      ]
    },
    {
      "cell_type": "markdown",
      "source": [
        "*以下為C = 1.2, kernel='rbf'時的輸出結果*"
      ],
      "metadata": {
        "id": "We7O_HeG4FZI"
      }
    },
    {
      "cell_type": "code",
      "source": [
        "# 使用SVM演算法\n",
        "classifier = svm.SVC(C=1.2, kernel='rbf')\n",
        "classifier.fit(train_data, train_label)"
      ],
      "metadata": {
        "colab": {
          "base_uri": "https://localhost:8080/"
        },
        "outputId": "a68c6e49-fc67-4bf9-f635-593d70068219",
        "id": "Y0ZhI-S74FZJ"
      },
      "execution_count": 312,
      "outputs": [
        {
          "output_type": "execute_result",
          "data": {
            "text/plain": [
              "SVC(C=1.2)"
            ]
          },
          "metadata": {},
          "execution_count": 312
        }
      ]
    },
    {
      "cell_type": "code",
      "source": [
        "# 輸出預測結果及正確結果\n",
        "predicted = classifier.predict(test_data)\n",
        "print('predicted:', predicted)\n",
        "print('true:     ', test_label)"
      ],
      "metadata": {
        "colab": {
          "base_uri": "https://localhost:8080/"
        },
        "outputId": "3a08db81-7162-48ba-e44a-486b57a18976",
        "id": "DAQR5c3i4FZJ"
      },
      "execution_count": 313,
      "outputs": [
        {
          "output_type": "stream",
          "name": "stdout",
          "text": [
            "predicted: [2 0 1 0 1 2 1 2 1 0 0 1 1 0 2 1 1 0 0 1 2 2 2 0 2 1 2 1 2 1]\n",
            "true:      [1 0 1 0 1 2 1 2 1 0 0 1 1 0 2 1 1 0 0 1 2 2 2 0 2 1 1 1 2 1]\n"
          ]
        }
      ]
    },
    {
      "cell_type": "code",
      "source": [
        "# 顯示混淆矩陣\n",
        "disp = metrics.ConfusionMatrixDisplay.from_predictions(test_label, predicted)\n",
        "disp.figure_.suptitle(\"Confusion Matrix\")\n",
        "plt.show()"
      ],
      "metadata": {
        "colab": {
          "base_uri": "https://localhost:8080/",
          "height": 308
        },
        "outputId": "a44a99d9-408b-4103-f2f6-b50b217e0a9e",
        "id": "zzoAAHQb4FZK"
      },
      "execution_count": 314,
      "outputs": [
        {
          "output_type": "display_data",
          "data": {
            "text/plain": [
              "<Figure size 432x288 with 2 Axes>"
            ],
            "image/png": "[encoded data removed]"
          },
          "metadata": {
            "needs_background": "light"
          }
        }
      ]
    },
    {
      "cell_type": "code",
      "source": [
        "# 顯示結果報表\n",
        "# precision = TP/(TP+FP)\n",
        "# recall = TP/(TP+FN)\n",
        "# f1-score= 2 * precision * recall/(recision + recall)，為precision和recall的harmonic mean調和平均數\n",
        "# support為實際手寫數字的總數\n",
        "print(f\"Classification report for classifier {classifier}:\\n\"\n",
        "   f\"{metrics.classification_report(test_label, predicted)}\\n\"  )"
      ],
      "metadata": {
        "colab": {
          "base_uri": "https://localhost:8080/"
        },
        "outputId": "6c815151-2e69-4c57-d1da-793b4e5c9ee9",
        "id": "X4WAjGEZ4FZK"
      },
      "execution_count": 315,
      "outputs": [
        {
          "output_type": "stream",
          "name": "stdout",
          "text": [
            "Classification report for classifier SVC(C=1.2):\n",
            "              precision    recall  f1-score   support\n",
            "\n",
            "           0       1.00      1.00      1.00         8\n",
            "           1       1.00      0.86      0.92        14\n",
            "           2       0.80      1.00      0.89         8\n",
            "\n",
            "    accuracy                           0.93        30\n",
            "   macro avg       0.93      0.95      0.94        30\n",
            "weighted avg       0.95      0.93      0.93        30\n",
            "\n",
            "\n"
          ]
        }
      ]
    }
  ]
}