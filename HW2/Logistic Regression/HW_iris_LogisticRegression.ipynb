{
  "nbformat": 4,
  "nbformat_minor": 0,
  "metadata": {
    "colab": {
      "name": "HW_iris_LogisticRegression.ipynb",
      "provenance": [],
      "collapsed_sections": []
    },
    "kernelspec": {
      "name": "python3",
      "display_name": "Python 3"
    },
    "language_info": {
      "name": "python"
    }
  },
  "cells": [
    {
      "cell_type": "code",
      "execution_count": 1,
      "metadata": {
        "id": "vx_yUUukijlO"
      },
      "outputs": [],
      "source": [
        "#參考資料 https://ithelp.ithome.com.tw/articles/10197110\n",
        "# import函式庫\n",
        "from sklearn import datasets, metrics, svm, tree, linear_model\n",
        "from sklearn.preprocessing import StandardScaler\n",
        "from sklearn.model_selection import train_test_split\n",
        "from sklearn.neighbors import KNeighborsClassifier\n",
        "import pandas as pd\n",
        "import matplotlib.pyplot as plt"
      ]
    },
    {
      "cell_type": "code",
      "source": [
        "# 讀入iris資料集\n",
        "iris = datasets.load_iris()\n",
        "# 定義feature及label\n",
        "iris_data = iris.data\n",
        "iris_label = iris.target\n",
        "\n",
        "# 顯示iris的內容\n",
        "print(pd.DataFrame(data=iris['data'], columns=iris['feature_names']))"
      ],
      "metadata": {
        "colab": {
          "base_uri": "https://localhost:8080/"
        },
        "id": "AxNyurU-jma8",
        "outputId": "ba67fcd3-cded-4513-b0ca-a3a496cef773"
      },
      "execution_count": 2,
      "outputs": [
        {
          "output_type": "stream",
          "name": "stdout",
          "text": [
            "     sepal length (cm)  sepal width (cm)  petal length (cm)  petal width (cm)\n",
            "0                  5.1               3.5                1.4               0.2\n",
            "1                  4.9               3.0                1.4               0.2\n",
            "2                  4.7               3.2                1.3               0.2\n",
            "3                  4.6               3.1                1.5               0.2\n",
            "4                  5.0               3.6                1.4               0.2\n",
            "..                 ...               ...                ...               ...\n",
            "145                6.7               3.0                5.2               2.3\n",
            "146                6.3               2.5                5.0               1.9\n",
            "147                6.5               3.0                5.2               2.0\n",
            "148                6.2               3.4                5.4               2.3\n",
            "149                5.9               3.0                5.1               1.8\n",
            "\n",
            "[150 rows x 4 columns]\n"
          ]
        }
      ]
    },
    {
      "cell_type": "code",
      "source": [
        "# 將資料分成training及testing，比例為8:2，並亂序\n",
        "train_data, test_data, train_label, test_label = train_test_split(iris_data,iris_label, test_size=0.2, shuffle=True)"
      ],
      "metadata": {
        "id": "C8eflYCmjwNE"
      },
      "execution_count": 160,
      "outputs": []
    },
    {
      "cell_type": "code",
      "source": [
        "# 前處理，將所有特徵標準化，能夠有效地讓模型快速收斂\n",
        "# 使平均值為0，標準差為1\n",
        "scaler = StandardScaler()\n",
        "scaler.fit(train_data)\n",
        "train_data = scaler.transform(train_data)\n",
        "test_data = scaler.transform(test_data)"
      ],
      "metadata": {
        "id": "JbbWrH4gdloV"
      },
      "execution_count": 161,
      "outputs": []
    },
    {
      "cell_type": "markdown",
      "source": [
        "*以下為 C = 1.0 時的輸出結果*"
      ],
      "metadata": {
        "id": "uhyd4jCz_uK8"
      }
    },
    {
      "cell_type": "code",
      "source": [
        "# 使用Logistic regression演算法\n",
        "classifier = linear_model.LogisticRegression(C=1.0)\n",
        "classifier.fit(train_data,train_label)"
      ],
      "metadata": {
        "colab": {
          "base_uri": "https://localhost:8080/"
        },
        "id": "uibogaSnduzE",
        "outputId": "ed7e12f0-6934-411e-8176-fac41e8b4db2"
      },
      "execution_count": 162,
      "outputs": [
        {
          "output_type": "execute_result",
          "data": {
            "text/plain": [
              "LogisticRegression()"
            ]
          },
          "metadata": {},
          "execution_count": 162
        }
      ]
    },
    {
      "cell_type": "code",
      "source": [
        "# 輸出預測結果及正確結果\n",
        "predicted = classifier.predict(test_data)\n",
        "print('predicted:', predicted)\n",
        "print('true:     ', test_label)"
      ],
      "metadata": {
        "colab": {
          "base_uri": "https://localhost:8080/"
        },
        "id": "yxO8Omrgjzre",
        "outputId": "61ad611d-3e1d-4060-c0e0-91312bf8ad30"
      },
      "execution_count": 163,
      "outputs": [
        {
          "output_type": "stream",
          "name": "stdout",
          "text": [
            "predicted: [0 0 2 1 1 2 2 1 0 1 1 2 2 1 0 1 1 0 2 2 0 0 1 1 0 1 1 1 1 2]\n",
            "true:      [0 0 2 1 1 2 2 1 0 1 1 1 2 1 0 1 1 0 2 2 0 0 1 1 0 1 1 1 1 2]\n"
          ]
        }
      ]
    },
    {
      "cell_type": "code",
      "source": [
        "# 顯示混淆矩陣\n",
        "disp = metrics.ConfusionMatrixDisplay.from_predictions(test_label, predicted)\n",
        "disp.figure_.suptitle(\"Confusion Matrix\")\n",
        "plt.show()"
      ],
      "metadata": {
        "colab": {
          "base_uri": "https://localhost:8080/",
          "height": 308
        },
        "id": "rgIgQ4dUtZww",
        "outputId": "531236fa-e16a-4979-fab8-342d10e31286"
      },
      "execution_count": 164,
      "outputs": [
        {
          "output_type": "display_data",
          "data": {
            "text/plain": [
              "<Figure size 432x288 with 2 Axes>"
            ],
            "image/png": "[encoded data removed]"
          },
          "metadata": {
            "needs_background": "light"
          }
        }
      ]
    },
    {
      "cell_type": "code",
      "source": [
        "# 顯示結果報表\n",
        "# precision = TP/(TP+FP)\n",
        "# recall = TP/(TP+FN)\n",
        "# f1-score= 2 * precision * recall/(recision + recall)，為precision和recall的harmonic mean調和平均數\n",
        "# support為實際手寫數字的總數\n",
        "print(f\"Classification report for classifier {classifier}:\\n\"\n",
        "   f\"{metrics.classification_report(test_label, predicted)}\\n\"  )"
      ],
      "metadata": {
        "colab": {
          "base_uri": "https://localhost:8080/"
        },
        "id": "a6x26m98vZZA",
        "outputId": "98562b97-3136-4e0a-9abd-c48d1fa3fe7d"
      },
      "execution_count": 165,
      "outputs": [
        {
          "output_type": "stream",
          "name": "stdout",
          "text": [
            "Classification report for classifier LogisticRegression():\n",
            "              precision    recall  f1-score   support\n",
            "\n",
            "           0       1.00      1.00      1.00         8\n",
            "           1       1.00      0.93      0.97        15\n",
            "           2       0.88      1.00      0.93         7\n",
            "\n",
            "    accuracy                           0.97        30\n",
            "   macro avg       0.96      0.98      0.97        30\n",
            "weighted avg       0.97      0.97      0.97        30\n",
            "\n",
            "\n"
          ]
        }
      ]
    },
    {
      "cell_type": "markdown",
      "source": [
        "*以下為 C = 0.5 時的輸出結果*"
      ],
      "metadata": {
        "id": "lE_vKR0f_8u5"
      }
    },
    {
      "cell_type": "code",
      "source": [
        "# 使用Logistic regression演算法\n",
        "classifier = linear_model.LogisticRegression(C=0.5)\n",
        "classifier.fit(train_data,train_label)"
      ],
      "metadata": {
        "colab": {
          "base_uri": "https://localhost:8080/"
        },
        "outputId": "bf3c7272-0e18-446e-ecff-3bc5ceeaf07b",
        "id": "bSNt-2jR_8u7"
      },
      "execution_count": 166,
      "outputs": [
        {
          "output_type": "execute_result",
          "data": {
            "text/plain": [
              "LogisticRegression(C=0.5)"
            ]
          },
          "metadata": {},
          "execution_count": 166
        }
      ]
    },
    {
      "cell_type": "code",
      "source": [
        "# 輸出預測結果及正確結果\n",
        "predicted = classifier.predict(test_data)\n",
        "print('predicted:', predicted)\n",
        "print('true:     ', test_label)"
      ],
      "metadata": {
        "colab": {
          "base_uri": "https://localhost:8080/"
        },
        "outputId": "0bcb83de-7d22-4841-894b-cf80230d47c0",
        "id": "je-gpme0_8u7"
      },
      "execution_count": 167,
      "outputs": [
        {
          "output_type": "stream",
          "name": "stdout",
          "text": [
            "predicted: [0 0 2 1 1 2 2 1 0 1 1 2 2 1 0 1 1 0 2 2 0 0 1 2 0 1 1 1 1 2]\n",
            "true:      [0 0 2 1 1 2 2 1 0 1 1 1 2 1 0 1 1 0 2 2 0 0 1 1 0 1 1 1 1 2]\n"
          ]
        }
      ]
    },
    {
      "cell_type": "code",
      "source": [
        "# 顯示混淆矩陣\n",
        "disp = metrics.ConfusionMatrixDisplay.from_predictions(test_label, predicted)\n",
        "disp.figure_.suptitle(\"Confusion Matrix\")\n",
        "plt.show()"
      ],
      "metadata": {
        "colab": {
          "base_uri": "https://localhost:8080/",
          "height": 308
        },
        "outputId": "e3fca24d-a1ec-4c6e-e73f-00866cdc628e",
        "id": "9tTjfPyY_8u8"
      },
      "execution_count": 168,
      "outputs": [
        {
          "output_type": "display_data",
          "data": {
            "text/plain": [
              "<Figure size 432x288 with 2 Axes>"
            ],
            "image/png": "[encoded data removed]"
          },
          "metadata": {
            "needs_background": "light"
          }
        }
      ]
    },
    {
      "cell_type": "code",
      "source": [
        "# 顯示結果報表\n",
        "# precision = TP/(TP+FP)\n",
        "# recall = TP/(TP+FN)\n",
        "# f1-score= 2 * precision * recall/(recision + recall)，為precision和recall的harmonic mean調和平均數\n",
        "# support為實際手寫數字的總數\n",
        "print(f\"Classification report for classifier {classifier}:\\n\"\n",
        "   f\"{metrics.classification_report(test_label, predicted)}\\n\"  )"
      ],
      "metadata": {
        "colab": {
          "base_uri": "https://localhost:8080/"
        },
        "outputId": "d25954d5-fab7-48f5-d521-d15d8f28c949",
        "id": "gf5tmN7I_8u8"
      },
      "execution_count": 169,
      "outputs": [
        {
          "output_type": "stream",
          "name": "stdout",
          "text": [
            "Classification report for classifier LogisticRegression(C=0.5):\n",
            "              precision    recall  f1-score   support\n",
            "\n",
            "           0       1.00      1.00      1.00         8\n",
            "           1       1.00      0.87      0.93        15\n",
            "           2       0.78      1.00      0.88         7\n",
            "\n",
            "    accuracy                           0.93        30\n",
            "   macro avg       0.93      0.96      0.93        30\n",
            "weighted avg       0.95      0.93      0.94        30\n",
            "\n",
            "\n"
          ]
        }
      ]
    },
    {
      "cell_type": "markdown",
      "source": [
        "*以下為 C = 1.5 時的輸出結果*"
      ],
      "metadata": {
        "id": "qG0vdGAtApjU"
      }
    },
    {
      "cell_type": "code",
      "source": [
        "# 使用Logistic regression演算法\n",
        "classifier = linear_model.LogisticRegression(C=1.5)\n",
        "classifier.fit(train_data,train_label)"
      ],
      "metadata": {
        "colab": {
          "base_uri": "https://localhost:8080/"
        },
        "outputId": "eb9d04b8-84dc-4284-9721-c653202e9b17",
        "id": "YPqCXlAhApjW"
      },
      "execution_count": 170,
      "outputs": [
        {
          "output_type": "execute_result",
          "data": {
            "text/plain": [
              "LogisticRegression(C=1.5)"
            ]
          },
          "metadata": {},
          "execution_count": 170
        }
      ]
    },
    {
      "cell_type": "code",
      "source": [
        "# 輸出預測結果及正確結果\n",
        "predicted = classifier.predict(test_data)\n",
        "print('predicted:', predicted)\n",
        "print('true:     ', test_label)"
      ],
      "metadata": {
        "colab": {
          "base_uri": "https://localhost:8080/"
        },
        "outputId": "79ff0801-4c59-48cc-9996-3f2d1ff862ed",
        "id": "NB-wNRbGApjW"
      },
      "execution_count": 171,
      "outputs": [
        {
          "output_type": "stream",
          "name": "stdout",
          "text": [
            "predicted: [0 0 2 1 1 2 2 1 0 1 1 2 2 1 0 1 1 0 2 2 0 0 1 1 0 1 1 1 1 2]\n",
            "true:      [0 0 2 1 1 2 2 1 0 1 1 1 2 1 0 1 1 0 2 2 0 0 1 1 0 1 1 1 1 2]\n"
          ]
        }
      ]
    },
    {
      "cell_type": "code",
      "source": [
        "# 顯示混淆矩陣\n",
        "disp = metrics.ConfusionMatrixDisplay.from_predictions(test_label, predicted)\n",
        "disp.figure_.suptitle(\"Confusion Matrix\")\n",
        "plt.show()"
      ],
      "metadata": {
        "colab": {
          "base_uri": "https://localhost:8080/",
          "height": 308
        },
        "outputId": "270824c0-3d34-4cab-f7fb-1c2daa5e811b",
        "id": "hUFm9pSCApjW"
      },
      "execution_count": 172,
      "outputs": [
        {
          "output_type": "display_data",
          "data": {
            "text/plain": [
              "<Figure size 432x288 with 2 Axes>"
            ],
            "image/png": "[encoded data removed]"
          },
          "metadata": {
            "needs_background": "light"
          }
        }
      ]
    },
    {
      "cell_type": "code",
      "source": [
        "# 顯示結果報表\n",
        "# precision = TP/(TP+FP)\n",
        "# recall = TP/(TP+FN)\n",
        "# f1-score= 2 * precision * recall/(recision + recall)，為precision和recall的harmonic mean調和平均數\n",
        "# support為實際手寫數字的總數\n",
        "print(f\"Classification report for classifier {classifier}:\\n\"\n",
        "   f\"{metrics.classification_report(test_label, predicted)}\\n\"  )"
      ],
      "metadata": {
        "colab": {
          "base_uri": "https://localhost:8080/"
        },
        "outputId": "fcf29132-aaab-4866-a021-941ff6e92eb3",
        "id": "XAFezhtaApjX"
      },
      "execution_count": 173,
      "outputs": [
        {
          "output_type": "stream",
          "name": "stdout",
          "text": [
            "Classification report for classifier LogisticRegression(C=1.5):\n",
            "              precision    recall  f1-score   support\n",
            "\n",
            "           0       1.00      1.00      1.00         8\n",
            "           1       1.00      0.93      0.97        15\n",
            "           2       0.88      1.00      0.93         7\n",
            "\n",
            "    accuracy                           0.97        30\n",
            "   macro avg       0.96      0.98      0.97        30\n",
            "weighted avg       0.97      0.97      0.97        30\n",
            "\n",
            "\n"
          ]
        }
      ]
    }
  ]
}