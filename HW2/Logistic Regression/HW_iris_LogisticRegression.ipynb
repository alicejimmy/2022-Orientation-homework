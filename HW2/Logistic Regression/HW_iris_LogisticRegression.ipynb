{
  "nbformat": 4,
  "nbformat_minor": 0,
  "metadata": {
    "colab": {
      "name": "HW_iris_LogisticRegression.ipynb",
      "provenance": [],
      "collapsed_sections": [],
      "authorship_tag": "ABX9TyPCUK8HzoC69aEumFzoSxzO",
      "include_colab_link": true
    },
    "kernelspec": {
      "name": "python3",
      "display_name": "Python 3"
    },
    "language_info": {
      "name": "python"
    }
  },
  "cells": [
    {
      "cell_type": "markdown",
      "metadata": {
        "id": "view-in-github",
        "colab_type": "text"
      },
      "source": [
        "<a href=\"https://colab.research.google.com/github/alicejimmy/2022-Orientation-homework/blob/main/HW2/HW_iris_LogisticRegression.ipynb\" target=\"_parent\"><img src=\"https://colab.research.google.com/assets/colab-badge.svg\" alt=\"Open In Colab\"/></a>"
      ]
    },
    {
      "cell_type": "code",
      "execution_count": null,
      "metadata": {
        "id": "vx_yUUukijlO"
      },
      "outputs": [],
      "source": [
        "#參考資料 https://ithelp.ithome.com.tw/articles/10197110\n",
        "# import函式庫\n",
        "from sklearn import datasets, metrics, svm, tree, linear_model\n",
        "from sklearn.preprocessing import StandardScaler\n",
        "from sklearn.model_selection import train_test_split\n",
        "from sklearn.neighbors import KNeighborsClassifier\n",
        "import pandas as pd\n",
        "import matplotlib.pyplot as plt"
      ]
    },
    {
      "cell_type": "code",
      "source": [
        "# 讀入iris資料集\n",
        "iris = datasets.load_iris()\n",
        "# 定義feature及label\n",
        "iris_data = iris.data\n",
        "iris_label = iris.target\n",
        "\n",
        "# 顯示iris的內容\n",
        "print(pd.DataFrame(data=iris['data'], columns=iris['feature_names']))"
      ],
      "metadata": {
        "colab": {
          "base_uri": "https://localhost:8080/"
        },
        "id": "AxNyurU-jma8",
        "outputId": "5f95d606-fce3-425c-df7d-2027d5b8d871"
      },
      "execution_count": null,
      "outputs": [
        {
          "output_type": "stream",
          "name": "stdout",
          "text": [
            "     sepal length (cm)  sepal width (cm)  petal length (cm)  petal width (cm)\n",
            "0                  5.1               3.5                1.4               0.2\n",
            "1                  4.9               3.0                1.4               0.2\n",
            "2                  4.7               3.2                1.3               0.2\n",
            "3                  4.6               3.1                1.5               0.2\n",
            "4                  5.0               3.6                1.4               0.2\n",
            "..                 ...               ...                ...               ...\n",
            "145                6.7               3.0                5.2               2.3\n",
            "146                6.3               2.5                5.0               1.9\n",
            "147                6.5               3.0                5.2               2.0\n",
            "148                6.2               3.4                5.4               2.3\n",
            "149                5.9               3.0                5.1               1.8\n",
            "\n",
            "[150 rows x 4 columns]\n"
          ]
        }
      ]
    },
    {
      "cell_type": "code",
      "source": [
        "# 將資料分成training及testing，比例為8:2，並亂序\n",
        "train_data, test_data, train_label, test_label = train_test_split(iris_data,iris_label, test_size=0.2, shuffle=True)"
      ],
      "metadata": {
        "id": "C8eflYCmjwNE"
      },
      "execution_count": null,
      "outputs": []
    },
    {
      "cell_type": "code",
      "source": [
        "# 前處理，將所有特徵標準化，能夠有效地讓模型快速收斂\n",
        "# 使平均值為0，標準差為1\n",
        "scaler = StandardScaler()\n",
        "scaler.fit(train_data)\n",
        "train_data = scaler.transform(train_data)\n",
        "test_data = scaler.transform(test_data)"
      ],
      "metadata": {
        "id": "JbbWrH4gdloV"
      },
      "execution_count": null,
      "outputs": []
    },
    {
      "cell_type": "code",
      "source": [
        "# 使用Logistic regression演算法\n",
        "classifier = linear_model.LogisticRegression(penalty='l2', C=1.0)\n",
        "classifier.fit(train_data,train_label)"
      ],
      "metadata": {
        "colab": {
          "base_uri": "https://localhost:8080/"
        },
        "id": "uibogaSnduzE",
        "outputId": "09381796-31b2-4f89-b8f9-2d5d00fb9a2a"
      },
      "execution_count": null,
      "outputs": [
        {
          "output_type": "execute_result",
          "data": {
            "text/plain": [
              "LogisticRegression()"
            ]
          },
          "metadata": {},
          "execution_count": 42
        }
      ]
    },
    {
      "cell_type": "code",
      "source": [
        "# 輸出預測結果及正確結果\n",
        "predicted = classifier.predict(test_data)\n",
        "print('predicted:', predicted)\n",
        "print('true:     ', test_label)"
      ],
      "metadata": {
        "colab": {
          "base_uri": "https://localhost:8080/"
        },
        "id": "yxO8Omrgjzre",
        "outputId": "6ab71b8e-2554-4032-e7d9-ddf1b23c8e28"
      },
      "execution_count": null,
      "outputs": [
        {
          "output_type": "stream",
          "name": "stdout",
          "text": [
            "predicted: [1 0 0 0 2 2 1 0 1 0 0 0 0 2 0 1 1 1 0 1 2 1 2 1 0 0 1 1 2 0]\n",
            "true:      [1 0 0 0 1 2 1 0 1 0 0 0 0 2 0 1 1 1 0 1 2 1 2 1 0 0 1 1 2 0]\n"
          ]
        }
      ]
    },
    {
      "cell_type": "code",
      "source": [
        "# 顯示混淆矩陣\n",
        "disp = metrics.ConfusionMatrixDisplay.from_predictions(test_label, predicted)\n",
        "disp.figure_.suptitle(\"Confusion Matrix\")\n",
        "plt.show()"
      ],
      "metadata": {
        "colab": {
          "base_uri": "https://localhost:8080/",
          "height": 308
        },
        "id": "rgIgQ4dUtZww",
        "outputId": "ce2d4a9d-bba6-4c4c-ba0f-e0327d231d0d"
      },
      "execution_count": null,
      "outputs": [
        {
          "output_type": "display_data",
          "data": {
            "text/plain": [
              "<Figure size 432x288 with 2 Axes>"
            ],
            "image/png": "[encoded data removed]"
          },
          "metadata": {
            "needs_background": "light"
          }
        }
      ]
    },
    {
      "cell_type": "code",
      "source": [
        "# 顯示結果報表\n",
        "# precision = TP/(TP+FP)\n",
        "# recall = TP/(TP+FN)\n",
        "# f1-score= 2 * precision * recall/(recision + recall)，為precision和recall的harmonic mean調和平均數\n",
        "# support為實際手寫數字的總數\n",
        "print(f\"Classification report for classifier {classifier}:\\n\"\n",
        "   f\"{metrics.classification_report(test_label, predicted)}\\n\"  )"
      ],
      "metadata": {
        "colab": {
          "base_uri": "https://localhost:8080/"
        },
        "id": "a6x26m98vZZA",
        "outputId": "3f95f0b1-3ce7-467b-fd89-c321d22190cc"
      },
      "execution_count": null,
      "outputs": [
        {
          "output_type": "stream",
          "name": "stdout",
          "text": [
            "Classification report for classifier KNeighborsClassifier():\n",
            "              precision    recall  f1-score   support\n",
            "\n",
            "           0       1.00      1.00      1.00        10\n",
            "           1       1.00      0.92      0.96        12\n",
            "           2       0.89      1.00      0.94         8\n",
            "\n",
            "    accuracy                           0.97        30\n",
            "   macro avg       0.96      0.97      0.97        30\n",
            "weighted avg       0.97      0.97      0.97        30\n",
            "\n",
            "\n"
          ]
        }
      ]
    }
  ]
}
